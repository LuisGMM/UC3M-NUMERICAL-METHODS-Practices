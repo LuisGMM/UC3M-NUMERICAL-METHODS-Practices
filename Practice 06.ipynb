{
 "cells": [
  {
   "cell_type": "markdown",
   "metadata": {},
   "source": [
    "# **Practice 6**"
   ]
  },
  {
   "cell_type": "code",
   "execution_count": null,
   "metadata": {},
   "outputs": [],
   "source": [
    "import numpy as np\n",
    "\n",
    "def simp_int(f,h):\n",
    "    '''This function approximates the value of the integral for the function values given by \"f\" \n",
    "    which must be taken at equispaced nodes deparated by a distance \"h\"  '''\n",
    "\n",
    "    n = np.shape(f)[0]\n",
    "    I_simp = (h/3) * (f[0] + 2*sum(f[:n-2:2]) \\\n",
    "                + 4*sum(f[1:n-1:2]) + f[n-1])\n",
    "    \n",
    "    return I_simp\n",
    "\n",
    "'''Example:'''\n",
    "\n",
    "a = 0\n",
    "b = np.pi\n",
    "n = 11\n",
    "h = (b - a) / (n - 1)\n",
    "x = np.linspace(a, b, n)\n",
    "f = np.sin(x)\n",
    "\n",
    "I_val = simp_int(f,h)\n",
    "print(I_val)"
   ]
  },
  {
   "cell_type": "markdown",
   "metadata": {
    "id": "eN5QnJvxvWnw"
   },
   "source": [
    "1. Given the intergral $\\int_{-3}^{3} \\frac{1}{1+x^2}dx$:\n",
    "  - Modify the previous function to use the composite trapezoid rule and the composite midpoint rule.\n",
    "  - Use 10, 100, 1000 and 10000 points to calculate an approximation of the value of the integral using the three composite quadrature rules. Calculate the real value and the errors for each of the numbers of points. In a figure, plot using the command \"loglog\" the error with respect to \"h\". Check that the order of convergence is what the theory says.\n",
    "\n",
    "<br>\n",
    "\n",
    "2. A car laps a race track in 84 seconds. The speed of the car at each 6-second interval is determined by using a radar gun and is given from the beginning of the lap, in feet/second, by the entries in the following table.\n",
    "\n",
    "\\begin{array}{|c|c|c|c|c|c|c|c|c|}\\hline\\\\ \n",
    "  \\textrm{Time:}  & 0  &  6   & 12  &  18  &  24  &  30  &  36  &  42  &  48  &  54  &  60  &  66  &  72  &  78  &  84  \\\\ \\hline\\\\ \n",
    "  \\textrm{Speed:}  & 124 & 134 &  148 & 156 & 147 & 133 & 121 & 109 & 99 & 85 & 78 & 89 & 104 & 116 & 123     \\\\ \\hline\n",
    "  \\end{array}\n",
    "\n",
    "How long is the track?"
   ]
  }
 ],
 "metadata": {
  "colab": {
   "authorship_tag": "ABX9TyOZH9Np1lvqxOH0x6in2nQX",
   "collapsed_sections": [],
   "name": "Practice 06.ipynb",
   "provenance": []
  },
  "kernelspec": {
   "display_name": "Python 3",
   "language": "python",
   "name": "python3"
  },
  "language_info": {
   "codemirror_mode": {
    "name": "ipython",
    "version": 3
   },
   "file_extension": ".py",
   "mimetype": "text/x-python",
   "name": "python",
   "nbconvert_exporter": "python",
   "pygments_lexer": "ipython3",
   "version": "3.8.10"
  }
 },
 "nbformat": 4,
 "nbformat_minor": 1
}
