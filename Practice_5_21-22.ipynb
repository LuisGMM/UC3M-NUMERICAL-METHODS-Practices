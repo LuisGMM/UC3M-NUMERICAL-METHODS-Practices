{
 "cells": [
  {
   "cell_type": "markdown",
   "metadata": {},
   "source": [
    "# Differentiation and interpolation"
   ]
  },
  {
   "cell_type": "code",
   "execution_count": null,
   "metadata": {},
   "outputs": [],
   "source": [
    "'''     Codes to calculate finite differences, and evaluate Newton's interpolation polynomial     '''\n",
    "\n",
    "\n",
    "import numpy as np\n",
    "import matplotlib.pyplot as plt\n",
    "\n",
    "plt.style.use('seaborn-poster')\n",
    "\n",
    "%matplotlib inline\n",
    "\n",
    "def divided_diff(x, y):\n",
    "    '''\n",
    "    function to calculate the divided\n",
    "    differences table\n",
    "    '''\n",
    "    n = len(y)\n",
    "    coef = np.zeros([n, n])\n",
    "    # the first column is y\n",
    "    coef[:,0] = y\n",
    "    \n",
    "    for j in range(1,n):\n",
    "        for i in range(n-j):\n",
    "            coef[i,j] = (coef[i+1,j-1] - coef[i,j-1]) / (x[i+j]-x[i])\n",
    "            \n",
    "    return coef\n",
    "\n",
    "def newton_poly(coef, x_data, x):\n",
    "    '''\n",
    "    evaluate the newton polynomial \n",
    "    at x\n",
    "    '''\n",
    "    n = len(x_data) - 1 \n",
    "    p = coef[n]\n",
    "    for k in range(1,n+1):\n",
    "        p = coef[n-k] + (x -x_data[n-k])*p\n",
    "    return p\n"
   ]
  },
  {
   "cell_type": "markdown",
   "metadata": {
    "id": "DQuoV8dsgXl_"
   },
   "source": [
    "1. Using the following data:\n",
    "\n",
    "\n",
    "  \\begin{array}{|c|c|c|c|c|c|c|c|c|c|c|c|}\\hline\\\\ \n",
    "  \\textrm{Time:}  & 0  &  20 & 40 &  60 &  80 &  100 & 120 &  140 & 160  & 180 & 200 \\\\ \\hline\\\\ \n",
    "  \\textrm{Peniciline concentration:}  & 0  &  106 & 1600 & 3000 & 5810 & 8600 & 9430 & 10950 & 10280 & 9620 & 9400    \\\\ \\hline\n",
    "  \\end{array}\n",
    "\n",
    "\n",
    "    \n",
    "> - Use the previous functions to approximate the peniciline concentrations at $t = 10, 50, 90, 130, 170,$ and $190$. \n",
    "\n",
    "> - Evaluate the interpolation polynomial at $t=250$ and add this point to the plot. Does it look like a sensible approximation?\n",
    "\n",
    "2. Given the function $f(x)=\\frac{1}{1+x^2}$ (Runge's function) and the points $x_i=-5,-4,-3,...,3,4,5$\n",
    "\n",
    ">- Plot the interpolation polinomial calculated for that set of nodes.\n",
    "\n",
    ">- Do the same for this new set of nodes $x_i=-5,-4.5,-4,...,4,4.5,5$.\n",
    "\n",
    ">- Check the following link:\n",
    "\n",
    "> [Scipy spline interpolation](https://docs.scipy.org/doc/scipy/tutorial/interpolate.html)\n",
    "\n",
    "> Read \"1-D interpolation (interp1d)\" to find out how to calculate linear, cuadratic and cubic splines using interp1d. Then use it to approximate Runge's function.\n",
    "\n",
    "\n",
    "\n",
    "**Notes:** \n",
    "\n",
    "- To plot the interpolation polynomials, evaluate them at a set of points defined as follows:\n",
    "\n",
    "t = np.linspace(a,b,N,endpoint=True) \n",
    "\n",
    "(For example, for the first exercise: t=np.linspace(0,200,201,endpoint=True) )"
   ]
  }
 ],
 "metadata": {
  "colab": {
   "name": "Practice_5.ipynb",
   "provenance": []
  },
  "kernelspec": {
   "display_name": "Python 3",
   "language": "python",
   "name": "python3"
  },
  "language_info": {
   "codemirror_mode": {
    "name": "ipython",
    "version": 3
   },
   "file_extension": ".py",
   "mimetype": "text/x-python",
   "name": "python",
   "nbconvert_exporter": "python",
   "pygments_lexer": "ipython3",
   "version": "3.7.9"
  }
 },
 "nbformat": 4,
 "nbformat_minor": 1
}
