{
 "cells": [
  {
   "cell_type": "markdown",
   "metadata": {
    "id": "MPh2nZ7GNd7B"
   },
   "source": [
    "**Essentials**\n",
    "\n",
    "1. Write one function for each of the following methods: the bisection method, the secant method and the Newtond's method. They must find the root of a given function with a given precision. The code should also return the number of iterations, the time that the method needed to achieve that precision and the values of the approximations to the root at each iteration. \n",
    "\n",
    "**Note:** Start coding just one of them (Secant or Newton's, as bisection was already coded for you in the class notebook) and use it to solve the exercises. Modifying the code to use the other should be easy. do it at the end of the practice if you have time left, or at home as homework.\n",
    "\n",
    "2. Determine the point of intersection of the curves given by $y=x^3-2x+1$ and $y=x^2$.\n",
    "3. Find the rectangle of maximum area if its vertices are $(0,0)$, $(x,0)$,$(x,\\cos(x))$ and $(0,\\cos(x))$ for $x\\in[0,2\\pi]$.\n",
    "4. In Newton's (or secant) method, we progress in each step from a given point $x$ to a new point $x-h$, where $h = f(x)/f'(x)$ (or the equivalent for the secant method). A refinement that is easily programmed is this: If $|f (x - h)|$ is not smaller than $|f (x)|$, then reject this value of $h$ and use $h/2$ instead. Test this refinement (for example, use $f(x)=\\arctan(x)$ with $x_0=2$).\n",
    "\n",
    "**Solving simultaneous nonlinear equations.**\n",
    "\n",
    "Newton's method can be adapted to solve systems of nonlinear equations \"easily\". Check the notes in Aula global.\n",
    "\n",
    "5. Use the Newton's method to solve the find a zero of the following equations:\n",
    "\n",
    "$$\\begin{array}{l} x^2+y^2-25=0\\\\  x^2-y-2=0 \\end{array}$$\n",
    "\n",
    "using a suitable starting point.\n",
    "\n",
    "**Once you have done the previous exercises and coded the three methods:**\n",
    "\n",
    "6. Solve exercises 2, 3 with the three methods and compare the results in terms of time and iterations for different precision tolerances. Use $\\epsilon=1e-1, 1e-2, 1e-5, 1e-10$."
   ]
  },
  {
   "cell_type": "code",
   "execution_count": null,
   "metadata": {},
   "outputs": [],
   "source": []
  }
 ],
 "metadata": {
  "colab": {
   "authorship_tag": "ABX9TyNKScZeU+3c8/9Zbea9SMve",
   "collapsed_sections": [],
   "name": "Practice 03.ipynb",
   "provenance": []
  },
  "kernelspec": {
   "display_name": "Python 3",
   "language": "python",
   "name": "python3"
  },
  "language_info": {
   "codemirror_mode": {
    "name": "ipython",
    "version": 3
   },
   "file_extension": ".py",
   "mimetype": "text/x-python",
   "name": "python",
   "nbconvert_exporter": "python",
   "pygments_lexer": "ipython3",
   "version": "3.8.10"
  }
 },
 "nbformat": 4,
 "nbformat_minor": 1
}
