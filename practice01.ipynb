{
 "cells": [
  {
   "cell_type": "markdown",
   "metadata": {
    "id": "NvylEFptyEHQ"
   },
   "source": [
    "In this practice we are going to cover Python essentials for numerical methods."
   ]
  },
  {
   "cell_type": "code",
   "execution_count": null,
   "metadata": {
    "id": "nCtuVLrIx5MC"
   },
   "outputs": [],
   "source": [
    "import numpy as np\n",
    "import matplotlib.pyplot as plt\n",
    "from mpl_toolkits.mplot3d import Axes3D\n",
    "from numpy import linalg as LA"
   ]
  },
  {
   "cell_type": "code",
   "execution_count": null,
   "metadata": {
    "id": "T2PFmdduzD1_"
   },
   "outputs": [],
   "source": [
    "# a  = np.full( ( n_rows, ncolums,... ), value )  \n",
    "# The dimension definition has as many elements as the dimension of the array\n",
    "# float( 'nan' ) \n",
    "np.full((2,3),4)\n",
    "# The following gives the same result\n",
    "# a  = np.ones( ( n_rows, ncolums,... ))\n",
    "4*np.ones((2,3))\n",
    "# a  = np.zeros( ( n_rows, ncolums,... ))\n",
    "np.zeros((2,3))"
   ]
  },
  {
   "cell_type": "code",
   "execution_count": null,
   "metadata": {
    "id": "SQcyJAZE3w2X"
   },
   "outputs": [],
   "source": [
    "x = np.array([[1, 2], [4, 5]])\n",
    "y = np.array([[7, 8], [9, 10]])\n",
    "print(x)\n",
    "print(y)"
   ]
  },
  {
   "cell_type": "code",
   "execution_count": null,
   "metadata": {
    "id": "oZBZnvIJ4DTI"
   },
   "outputs": [],
   "source": [
    "x+y"
   ]
  },
  {
   "cell_type": "code",
   "execution_count": null,
   "metadata": {
    "id": "O5QU0RCy4cNo"
   },
   "outputs": [],
   "source": [
    "x*y # This is the elementwise operation"
   ]
  },
  {
   "cell_type": "code",
   "execution_count": null,
   "metadata": {
    "id": "5scxWWbA4mlB"
   },
   "outputs": [],
   "source": [
    "x@y # This is the matrix product"
   ]
  },
  {
   "cell_type": "code",
   "execution_count": null,
   "metadata": {
    "id": "Lu_bDAb34svg"
   },
   "outputs": [],
   "source": [
    "np.divide(x,y) # Elementwise division"
   ]
  },
  {
   "cell_type": "code",
   "execution_count": null,
   "metadata": {
    "id": "99Vja0MV5UNA"
   },
   "outputs": [],
   "source": [
    "print (np.sqrt(x)) # Elementwise square root"
   ]
  },
  {
   "cell_type": "code",
   "execution_count": null,
   "metadata": {
    "id": "kCpmjzcq7bLC"
   },
   "outputs": [],
   "source": [
    "print(y)\n",
    "np.sum(y,axis=1) # Write axis=1 to see what happens"
   ]
  },
  {
   "cell_type": "code",
   "execution_count": null,
   "metadata": {
    "id": "oLkfia0q7pI5"
   },
   "outputs": [],
   "source": [
    "np.transpose(x) # also works with x.T"
   ]
  },
  {
   "cell_type": "code",
   "execution_count": null,
   "metadata": {
    "id": "V5-ge_jr77ZY"
   },
   "outputs": [],
   "source": [
    "a = np.array([[1, 2], [3, 4]])\n",
    "b = np.array([[5, 6]])\n",
    "v=np.concatenate((a, b), axis=0) # change the axis to 1 and see what happens"
   ]
  },
  {
   "cell_type": "code",
   "execution_count": null,
   "metadata": {
    "id": "xo9YGziD99px"
   },
   "outputs": [],
   "source": [
    "# now try\n",
    "w=np.concatenate((a, b.T), axis=1)"
   ]
  },
  {
   "cell_type": "code",
   "execution_count": null,
   "metadata": {
    "id": "05uqrzIz_YTT"
   },
   "outputs": [],
   "source": [
    "# slicing (the coordinates of the arrays start at 0)\n",
    "print(v)\n",
    "v[::2,1] # What does it means?"
   ]
  },
  {
   "cell_type": "code",
   "execution_count": null,
   "metadata": {
    "id": "89RD60rrHwaP"
   },
   "outputs": [],
   "source": [
    "v[[1,2,0],1]"
   ]
  },
  {
   "cell_type": "code",
   "execution_count": null,
   "metadata": {
    "id": "yslMjLnnEVzz"
   },
   "outputs": [],
   "source": [
    "print(v.shape) # gives you the dimensions of the array"
   ]
  },
  {
   "cell_type": "code",
   "execution_count": null,
   "metadata": {
    "id": "XF5SXKI6Ee2K"
   },
   "outputs": [],
   "source": [
    "z = np.reshape(np.arange(16),(4,4))\n",
    "print(z)"
   ]
  },
  {
   "cell_type": "code",
   "execution_count": null,
   "metadata": {
    "id": "5q3m3oquHTwU"
   },
   "outputs": [],
   "source": [
    "np.random.rand(3,2) # try np.random.randint(5, size=(2, 4))"
   ]
  },
  {
   "cell_type": "code",
   "execution_count": null,
   "metadata": {
    "id": "vxLH9d6ZIGTf"
   },
   "outputs": [],
   "source": [
    "print(x)\n",
    "LA.det(x)"
   ]
  },
  {
   "cell_type": "code",
   "execution_count": null,
   "metadata": {
    "id": "DxjtzboEIai7"
   },
   "outputs": [],
   "source": [
    "LA.inv(x)"
   ]
  },
  {
   "cell_type": "code",
   "execution_count": null,
   "metadata": {
    "id": "hVIR5z2oIsSy"
   },
   "outputs": [],
   "source": [
    "LA.matrix_rank(x)"
   ]
  },
  {
   "cell_type": "code",
   "execution_count": null,
   "metadata": {
    "id": "DjHbXWnrIyHc"
   },
   "outputs": [],
   "source": [
    "eval, evec = LA.eig(np.array([[1, -1], [1, 1]]))\n",
    "print(eval)\n",
    "print(evec)"
   ]
  },
  {
   "cell_type": "code",
   "execution_count": null,
   "metadata": {
    "id": "owukNjcE1sRB"
   },
   "outputs": [],
   "source": [
    "# b = range(start_value, stop_value, step_size)\n",
    "for seq in range(10):\n",
    "    print(seq)\n",
    "\n",
    "range(10)    "
   ]
  },
  {
   "cell_type": "code",
   "execution_count": null,
   "metadata": {
    "id": "MPOrdDhrZ5fu"
   },
   "outputs": [],
   "source": [
    "i = 1\n",
    "while i < 6:\n",
    "  print(i)\n",
    "  i += 1"
   ]
  },
  {
   "cell_type": "markdown",
   "metadata": {
    "id": "6QJXuHH1MAtE"
   },
   "source": [
    "\n",
    "\n",
    "1.   Read the matplotlib documentation to be able to plot the following functions:\n",
    "\n",
    "*   $f(x)=5e^x-\\cos(x)$ in $[-1,1]$.\n",
    "*   $f(x,y)= \\cos(3x)*\\sin(2y)$ in $[-5,5]\\times[-5,5]$.\n",
    "2. Write a function that plots an user defined ellipse for given long and short axes, and focuses.\n",
    "3. Write a script that calculates the least squares solution of Ax=b with $A=[[1, 2],[3, 4],[5, 6]]$ and $b=[1,2,3]$.\n",
    "4. Use np.triu and np.tril to create an upper (respectively, lower) triangular matrix of dimension 10 having 2 on the main diagonal and −3 on the second upper (respectively, lower) diagonal.\n",
    "     \n",
    "5. Write a code that interchange of the third and seventh row of the matrices built up in the previous exercise, and then the instructions allowing the     interchange between the fourth and eighth column.\n",
    "\n",
    "6. Verify whether or not the following vectors in $\\mathbb{R}^4$ are linearly independent: v1 =[0 1 0 1], v2 =[1 2 3 4], v3 =[1 0 1 0], v4 =[0 0 1 1]. \n",
    "(What ways do you know to do it? Look for the right commands online).\n"
   ]
  }
 ],
 "metadata": {
  "colab": {
   "authorship_tag": "ABX9TyMngqSpsEQmVNrIdmK/XLcW",
   "name": "Practice_01.ipynb",
   "provenance": []
  },
  "kernelspec": {
   "display_name": "Python 3",
   "language": "python",
   "name": "python3"
  },
  "language_info": {
   "codemirror_mode": {
    "name": "ipython",
    "version": 3
   },
   "file_extension": ".py",
   "mimetype": "text/x-python",
   "name": "python",
   "nbconvert_exporter": "python",
   "pygments_lexer": "ipython3",
   "version": "3.7.1"
  }
 },
 "nbformat": 4,
 "nbformat_minor": 1
}