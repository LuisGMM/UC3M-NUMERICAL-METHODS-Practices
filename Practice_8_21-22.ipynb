{
 "cells": [
  {
   "cell_type": "markdown",
   "metadata": {},
   "source": [
    "# **Practice 8**"
   ]
  },
  {
   "cell_type": "markdown",
   "metadata": {},
   "source": [
    "## Differences between convergence and absolute stability"
   ]
  },
  {
   "cell_type": "markdown",
   "metadata": {},
   "source": [
    "1. The **explicit midpoint method**   \n",
    "\n",
    "$$u_{n+1}=u_{n-1}+2hf\\left(t_n,u_n\\right)$$\n",
    "\n",
    "is one of the typical methods studied in a *Numerical Methods* class.\n",
    "\n",
    "Here we are going to use it to solve the test problem\n",
    "\n",
    "$$\\begin{array}{l}\n",
    "y'=\\lambda y \\\\\n",
    "y(0) = 1\n",
    "\\end{array}$$\n",
    "\n",
    "- Code the midpoint method. You need to initial values, calculate $y(-h)=y(0)-hf(0,y(0))$.\n",
    "- Solve the test problem for $\\lambda = -1$ over the interval $[0,1]$ for stepsizes $h=0.5,0.25,0.1$\n",
    "and plot the solutions along with the analytic solution. \n",
    "- Now solve the same problem on the interval $[0,100]$ with $h=0.1$ and plot the solution along with the analytic one. \n",
    "- Do the same with the explicit Euler's method.\n",
    "- Explain the results.\n"
   ]
  },
  {
   "cell_type": "markdown",
   "metadata": {},
   "source": [
    "2. The Lorentz equations\n",
    "\n",
    "$$\\begin{array}{l}\n",
    "\\frac{dx}{dt}=\\sigma(y-x) \\\\\n",
    "\\frac{dy}{dt}=x(\\rho-z)-y \\\\\n",
    "\\frac{dz}{dt}=xy-\\beta z\n",
    "\\end{array}\n",
    "$$\n",
    "\n",
    "Write a code to solve this system of ODEs for $\\sigma=10$, $\\rho=28$, $\\beta=8/3$, $t_0=0$, $t_f=50$ and $(x[0],y[0],z[0])=(0, 1, 1.05)$ and plot the solution using your own code or if you need it (or don't have time to think):\n",
    "\n",
    "from mpl_toolkits import mplot3d\n",
    "\n",
    "fig = plt.figure(figsize = (10,10))\n",
    "\n",
    "ax = plt.axes(projection='3d')\n",
    "\n",
    "ax.grid()\n",
    "\n",
    "ax.plot3D(x, y, z)\n",
    "\n",
    "ax.set_xlabel('x', labelpad=20)\n",
    "\n",
    "ax.set_ylabel('y', labelpad=20)\n",
    "\n",
    "ax.set_zlabel('z', labelpad=20)\n",
    "\n",
    "plt.show()"
   ]
  }
 ],
 "metadata": {
  "kernelspec": {
   "display_name": "Python 3",
   "language": "python",
   "name": "python3"
  },
  "language_info": {
   "codemirror_mode": {
    "name": "ipython",
    "version": 3
   },
   "file_extension": ".py",
   "mimetype": "text/x-python",
   "name": "python",
   "nbconvert_exporter": "python",
   "pygments_lexer": "ipython3",
   "version": "3.8.10"
  }
 },
 "nbformat": 4,
 "nbformat_minor": 4
}
