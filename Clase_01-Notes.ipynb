{
 "cells": [
  {
   "cell_type": "markdown",
   "metadata": {
    "id": "HxQo23YFiPhy",
    "slideshow": {
     "slide_type": "slide"
    }
   },
   "source": [
    "# Session 1: Principles of numerical mathematics\n",
    "\n",
    "\n",
    "\n",
    "\n",
    "\n"
   ]
  },
  {
   "cell_type": "markdown",
   "metadata": {
    "slideshow": {
     "slide_type": "slide"
    }
   },
   "source": [
    "In this first session we are going to explain the basis of the numerical mathematics.\n",
    "\n",
    "<figure>\n",
    "<center>\n",
    "<img src='./Pilars.jpg' width=\"650\" height=\"500\" />\n",
    "<!-- <figcaption>Pilars of a cathedral</figcaption></center> -->\n",
    "</figure>\n",
    "\n",
    "\n",
    "They are like the pilars of a cathedral, maybe they are not the most attractive part of it, but everything will collapse without them."
   ]
  },
  {
   "cell_type": "markdown",
   "metadata": {
    "id": "BhnF6La57Boh",
    "slideshow": {
     "slide_type": "slide"
    }
   },
   "source": [
    "## Well-posedness and condition number of a problem\n",
    "\n",
    "We are going to start defining a classification of the problems that we might find.\n",
    "\n",
    "Consider the following expression:\n",
    "\n",
    "\\begin{equation}\n",
    "F(x,d)=0\n",
    "\\end{equation} \n",
    "\n",
    "in which we call $x$ the unknown, $d$ data and $F$ is the relation between $x$ and $d$.\n",
    "\n",
    "If $F$ and $d$ are known, finding $x$ will be called the \"direct problem\".\n",
    "\n",
    "If $F$ and $x$ are known, finding $d$ will be called the \"inverse problem\".\n",
    "\n",
    "If $x$ and $d$ are known, finding $F$ will be called the \"identification problem\".\n",
    "\n",
    "In this course we will, mostly, study the direct problem."
   ]
  },
  {
   "cell_type": "markdown",
   "metadata": {
    "id": "9VoE6C9oQiVV",
    "slideshow": {
     "slide_type": "skip"
    }
   },
   "source": []
  },
  {
   "cell_type": "markdown",
   "metadata": {
    "id": "Z92lW1evQiAN",
    "slideshow": {
     "slide_type": "skip"
    }
   },
   "source": []
  },
  {
   "cell_type": "markdown",
   "metadata": {
    "id": "p8GJpBZVQQOU",
    "slideshow": {
     "slide_type": "slide"
    }
   },
   "source": [
    "Ejemplo: calcula el precio total de la compra sabiendo que llevas n kg de fruta que vale 4 euros el kg. problema inverso condicionado?"
   ]
  },
  {
   "cell_type": "markdown",
   "metadata": {
    "id": "2jkDDWy0QhaY",
    "slideshow": {
     "slide_type": "skip"
    }
   },
   "source": []
  },
  {
   "cell_type": "markdown",
   "metadata": {
    "id": "7D91WJnoQlsV",
    "slideshow": {
     "slide_type": "skip"
    }
   },
   "source": []
  },
  {
   "cell_type": "markdown",
   "metadata": {
    "id": "Ypmr15uegalm",
    "slideshow": {
     "slide_type": "slide"
    }
   },
   "source": [
    "**Example:** Let us suppose we have this expression: $A\\vec{v}-\\vec{b}=\\vec{0}$\n",
    "\n",
    "We can think about it as a linear system\n",
    "\n",
    "$$\\left[\\begin{array}{cc}\n",
    "1 & 3\\\\\n",
    "5 & 7 \\end{array}\\right]\\left[\\begin{array}{c}\n",
    "x\\\\\n",
    "y \\end{array}\\right]= \\left[\\begin{array}{c}\n",
    "3\\\\\n",
    "4 \\end{array}\\right]$$\n",
    "\n",
    "in which the unknown is the $\\vec{v}$ and then the direct problem will be solving the linear system, or as a matrix product\n",
    "\n",
    "$$\\left[\\begin{array}{cc}\n",
    "1 & 3\\\\\n",
    "5 & 7 \\end{array}\\right]\\left[\\begin{array}{c}\n",
    "3\\\\\n",
    "4 \\end{array}\\right]=\\left[\\begin{array}{c}\n",
    "x\\\\\n",
    "y \\end{array}\\right] $$\n",
    "\n",
    "in which calculating the product would be the direct problem.\n",
    "\n",
    "Sometimes you define what is direct and what is inverse, but often, the history of the problem will tell which is which."
   ]
  },
  {
   "cell_type": "markdown",
   "metadata": {
    "id": "EKG7lQPUwsUl",
    "slideshow": {
     "slide_type": "slide"
    }
   },
   "source": [
    "Now, we give a definition that tells us whether or not a problem is well-posed (Jacques Hadamard), that is, if it is a reasonable problem from the mathematical perspective.\n",
    "\n",
    "**Definition (by Jacques Hadamard):** We say that a problem is $\\color{red}{\\text{well-posed}}$ if it admits a **unique** solution $x$ which depends with **continuity** on the data.\n",
    "\n",
    "**Definition:** We say that a problem is ill-posed if it is not well-posed.\n",
    "\n",
    "**Definition:** We say that $x$ depends with continuity on the data if a little change $\\delta d$ in the data produces a small change in the solution $\\delta x$. Mathematically:\n",
    "\n",
    "If $F(d+\\delta d,x+\\delta x)=0$ then:\n",
    "\n",
    "\\begin{equation}\n",
    "\\forall \\eta>0, \\exists K(\\eta,d): \\|\\delta d\\|<\\eta \\Rightarrow\\|\\delta x\\|\\leq K(\\eta,d)\\|\\delta d\\|\n",
    "\\end{equation}\n",
    "\n",
    "where $K$ is a constant that depends on $\\eta$ and $d$."
   ]
  },
  {
   "cell_type": "markdown",
   "metadata": {
    "id": "hFJYtF36pLzn",
    "slideshow": {
     "slide_type": "fragment"
    }
   },
   "source": [
    "**Example:** The solution of the equation $3x+d=0$, where $d$ is the data, is $x=d/3$ which is a continous function on $d$ and is unique, so the problem is well-posed.\n",
    "  \n",
    "**Example:** Find the number of roots of the polynomial $p(x)=x^4-(2a-1)x^2+a(a-1)$ ($a$ is the data of the problem). Is easy to check that we have four real roots if $a\\geq 1$, two is $a\\in [0,1)$ and no real roots if $a < 0$. This is an ill posed problem because the solution does not depend continuously from the data.\n",
    "\n",
    "<figure>\n",
    "<center>\n",
    "<img src='./illcond_example.jpg' />\n",
    "<figcaption>Number of roots as a function of $a$</figcaption></center>\n",
    "</figure>\n",
    "\n",
    "\n",
    "Notice that the problem is not calculating the roots, but the number of roots as a function of the parameter $a$.\n",
    "\n",
    "**Example:** Another kind of example of an ill-posed problem is given by the equation $y’ = \\frac{3}{2}y^{1/3}$ with $y(0) = 0$. Since the solution is $y(t) = \\pm  t^{3/2}$, the solution is not unique (it could be plus $t^{3/2}$ or it could be minus $t^{3/2}$). As uniqueness is required for well-posedness, the problem is ill-posed.\n",
    "\n",
    "<figure>\n",
    "<center>\n",
    "<img src='./ill-posed_2.jpg' />\n",
    "<figcaption>Two different solutions of the ODE $y’ = \\frac{3}{2}y^{1/3}$ with $y(0) = 0$</figcaption></center>\n",
    "</figure>\n",
    "\n"
   ]
  },
  {
   "cell_type": "markdown",
   "metadata": {
    "id": "Ty9K1jgEKnu-",
    "slideshow": {
     "slide_type": "fragment"
    }
   },
   "source": [
    "Most problems are not so clearly ill-posed as the previous examples, that is, there is a range of problems that even if they are well posed they will be incresingly hard to solve. To quantify how well or ill posed is a problem we define the condition numbers:\n",
    "\n",
    "**Definition:** Relative condition number \n",
    "\n",
    "\\begin{equation}\n",
    "K(d) = \\underset{\\delta d \\in D}{sup} \\frac{\\|\\delta x\\|/\\|x\\|}{\\|\\delta d\\|/\\|d\\|}\n",
    "\\end{equation}\n",
    "\n",
    "**Definition:** Absolute condition number \n",
    "\n",
    "\\begin{equation}\n",
    "K_{abs}(d) = \\underset{\\delta d \\in D}{sup}\\frac{\\|\\delta x\\|}{\\|\\delta d\\|}\n",
    "\\end{equation}\n",
    "\n",
    "$D$ is a neighborhood of the origin that denotes the admissible perturbations of the data.\n",
    "\n",
    "**Definition:** We say a problem is \"ill-conditioned\" if $K$ is \"big\" where the definition of big depends on the problem.\n",
    "\n",
    "It is important to understand that the conditioning of a problem does not depend on the algorithm used to solve it. You can develop stable and unstable algorithms for well-posed problems. The concept of stability for algorithms will be defined later on.\n",
    "\n",
    "Having a \"big\" or even infinite condition number does not imply that the problem is ill-posed. Some ill-posed problems can be reformulated as an equivalent problem (that is, one that has the same solution) which are well-posed."
   ]
  },
  {
   "cell_type": "markdown",
   "metadata": {
    "id": "YiMP4vY9qdnl",
    "slideshow": {
     "slide_type": "slide"
    }
   },
   "source": [
    "If a problem admits a unique solution, then there exists a mapping $G$, called the resolvent, between the data and the solutions sets such that:\n",
    "\n",
    "\\begin{equation}\n",
    "x=G(d) \\textrm{, that is, } F(G(d),d)=0\n",
    "\\end{equation}\n",
    "\n",
    "According to this, and assuming $G$ is differentiable in $d$ ($G'(d)$ exist), the Taylor expansion of $G$ is\n",
    "\n",
    "$$ G(d+\\delta d) - G(d) = G'(d)\\delta d + o(\\|\\delta d\\|) \\textrm{ for } \\delta d \\rightarrow 0 $$\n",
    "\n",
    "This let us redefine the condition numbers in terms of the resolvent $G$:\n",
    "\n",
    "$$ K(d) \\approx \\|G'(d)\\| \\frac{\\|d\\|}{\\|G(d)\\|}\\qquad  \\textrm{ and } \\qquad K_{abs} \\approx \\|G'(d)\\| $$\n",
    "\n",
    "**Exercise:** Prove that the expressions of the contition numbers using the resolvent are equivalent to the original ones."
   ]
  },
  {
   "cell_type": "markdown",
   "metadata": {
    "id": "qoyDVqeBq3fU",
    "slideshow": {
     "slide_type": "slide"
    }
   },
   "source": [
    "**Example of ill-conditioning: Algebraic second degree equation.**\n",
    "\n",
    "We want to calculate the solutions of $x^2-2px+1$ with $p\\geq 1$. Obviously $x_{\\pm}= p \\pm \\sqrt{p^2-1}$. \n",
    "\n",
    "We can formulate this problem as $F(x,p)=x^2-2px+1$ where $p$ is the data and $x_{\\pm}=(x_+,x_-)$ the solution. The resolvent $G(p)=(p + \\sqrt{p^2-1},p - \\sqrt{p^2-1})$ and its derivative $G'(p) = (1 + p/\\sqrt{p^2-1},1 - p/\\sqrt{p^2-1})$.\n",
    "\n",
    "Then:\n",
    "\n",
    "$$K(d) \\approx \\|G'(d)\\| \\frac{\\|d\\|}{\\|G(d)\\|} = \\frac{((4p^2-2)/(p^2-1))^{1/2}}{(4p^2-2)^{1/2}}\\|p\\|=\\frac{|p|}{p^2-1} $$\n",
    "\n",
    "$$K_{abs}(d) \\approx \\|G'(d)\\| = \\sqrt{2}\\frac{p}{\\sqrt{p^2-1}} $$\n",
    "\n",
    "If $p>>1$ then the problem is well-conditioned (two distinct roots). If $p=1$ (one double root), then $G$ is not differentiable but in the limit $p\\rightarrow 1^+$ the problem is ill conditioned as $\\lim\\limits_{p\\rightarrow 1^+} \\|G'(p)\\|=\\infty$.\n",
    "\n",
    "However, the problem is not ill-posed. We can reformulate it as $F(x,t)=x^2-((1+t^2)/t)x+1$ with $t=p+\\sqrt{p^2-1}$. In this case $x_+=t$ and $x_-=1/t$ are the same for $t=1$, and $K(t)\\approx 1 \\;\\forall t\\in \\mathbb R$ "
   ]
  },
  {
   "cell_type": "markdown",
   "metadata": {
    "id": "eB9selXYr2ou",
    "slideshow": {
     "slide_type": "slide"
    }
   },
   "source": [
    "## Stability of numerical methods \n",
    "\n",
    "Let's assume the the problem $F(x,d)=0$ is well-posed. Then, a numerical method to approximate its solution will consist, in general, of a sequence of approximate problems\n",
    "\n",
    "$$F_n(x_n,d_n) = 0 \\quad n\\geq 1$$\n",
    "\n",
    "We would expect that $x_n\\underset{n\\rightarrow \\infty}{\\rightarrow} x$. For that it is necessary that $d_n\\rightarrow d$ and that $F_n$ approximates $F$ when $n\\rightarrow\\infty$.\n",
    "\n",
    "**Definition:** We say that $F_n(x_n,d_n)=0$ is consistent if \n",
    "$$F_n(x,d)=F_n(x,d)-F(x,d)\\underset{n\\rightarrow \\infty}{\\rightarrow} 0$$\n",
    "where $x$ is the solution of $F(x,d)=0$ for the datum $d$.\n",
    "\n",
    "**Definition:** We say that a method is strongly consistent if $F_n(x,d)=0\\quad \\forall n$.\n",
    "\n",
    "In some cases when iterative methods are used, we can write them as \n",
    "\n",
    "$$F_n(x_n,x_{n-1},\\cdots, x_{n-q},d_n)=0$$\n",
    "\n",
    "where $x_n,x_{n-1},\\cdots, x_{n-1}$ are given. In this case the property of strong consistency becomes $F_x(x,x,\\cdots, x,d)=0\\;\\; \\forall n\\geq q$."
   ]
  },
  {
   "cell_type": "markdown",
   "metadata": {
    "id": "tIUjtLsAslnE",
    "slideshow": {
     "slide_type": "slide"
    }
   },
   "source": [
    "**Examples:**\n",
    "\n",
    "\n",
    "\n",
    "*   Newton's method: $x_n=x_{n-1}-\\frac{f(x_{n-1})}{f'(x_{n-1})}$ is strongly consistent.\n",
    "*   Composite midpoint rule: \n",
    "If $x=\\int_{a}^{b}f(t)dt$, $x_n=H\\sum_{k=1}^{n}f(\\frac{t_k+t_{k+1}}{2})\\quad n \\geq 1$ with $H=(b-a)/n$ and $t_k=a+(k-1)H$.\n",
    "This method to calculate the integral is consistent, but only strongly consistent if $f$ is a piecewise linear polynomial.\n",
    "\n",
    "In general, numerical methods obtained from the mathematical problem by truncation of limit operations (like integrals, derivatives, series,...) are not strongly consistent.\n",
    "\n",
    "**Exercise:** Prove the previous assertions."
   ]
  },
  {
   "cell_type": "markdown",
   "metadata": {
    "id": "kqZDBqY5ugJh",
    "slideshow": {
     "slide_type": "slide"
    }
   },
   "source": [
    "**Definition:** We say that a numerical method $F_n(x_n,d_n)=0$ is well-posed (or **stable**) if for any fixed $n$ there exists a unique solution $x_n$ corresponding to the datum $d_n$, that the computation of $x_n$ as a function of $d_n$ is unique, and that $x_n$ depends continuously on the data, i.e:\n",
    "\n",
    "\\begin{equation}\n",
    "\\forall \\eta>0, \\exists K_n(\\eta,d_n): \\|\\delta d_n\\|<\\eta \\Rightarrow\\|\\delta x-n\\|\\leq K_n(\\eta,d_n)\\|\\delta d_n\\|\n",
    "\\end{equation}\n",
    "\n",
    "We can also define:\n",
    "\n",
    "\\begin{equation}\n",
    "K_n(d_n) = \\underset{\\delta d_n \\in D_n}{sup} \\frac{\\|\\delta x_n\\|/\\|x_n\\|}{\\|\\delta d_n\\|/\\|d_n\\|}\n",
    "\\qquad \\textrm{and } \\quad\n",
    "K_{abs,n}(d_n) = \\underset{\\delta d_n \\in D_n}{sup}\\frac{\\|\\delta x_n\\|}{\\|\\delta d_n\\|}\n",
    "\\end{equation}\n",
    "\n",
    "and from these:\n",
    "\n",
    "\\begin{equation}\n",
    "K^{num}(d_n) = \\lim\\limits_{n \\rightarrow \\infty} \\underset{n \\geq k}{sup}\\; K_n(d_n) \\quad \\textrm{and} \\quad K^{num}_{abs}(d_n) = \\lim\\limits_{n \\rightarrow \\infty} \\underset{n \\geq k}{sup}\\; K_{abs,n}(d_n) \n",
    "\\end{equation}\n",
    "\n",
    "$K_{num}$ is the relative asymptotic condition number and $K_{abs}^{num}$ is the absolute asymptotic condition number of the numerical method corresponding to the datum $d_n$.\n",
    "\n",
    "The numerical method is said to be well-conditioned if the condition number $K^{num}$  is \"small\" for any admissible datum $d_n$ and ill-conditioned otherwise."
   ]
  },
  {
   "cell_type": "markdown",
   "metadata": {
    "id": "sNx-kPA1UCtP",
    "slideshow": {
     "slide_type": "slide"
    }
   },
   "source": [
    "We can also define the resolvent $G_n$ for the numerical method:\n",
    "\n",
    "$ x_n=G(d_n)$, that is  $F(G_n(d_n),d_n)=0 $\n",
    "\n",
    "Assuming it is differentiable:\n",
    "\n",
    "$$ K_n(d_n) \\approx \\|G'_n(d_n)\\| \\frac{\\|d_n\\|}{\\|G_n(d_n)\\|} \\qquad \\textrm{ and } \\qquad  K_{abs} \\approx \\|G'_n(d_n)\\| $$\n",
    "\n",
    "\n",
    "\n",
    "\n",
    "\n"
   ]
  },
  {
   "cell_type": "markdown",
   "metadata": {
    "id": "o2LZDuvgFity",
    "slideshow": {
     "slide_type": "slide"
    }
   },
   "source": [
    "**Examples:** \n",
    "\n",
    "*   Sum and subtraction.\n",
    "The sum defined as \n",
    "$$ f: \\underset{(a,b)}{\\mathbb{R}^{2}}\\rightarrow \\underset{a+b}{\\mathbb{R}} $$\n",
    "has derivative $f'(a,b)=(1,1)^T$, and thus, its condition number $K((a,b))\\approx \\frac{|a|+|b|}{|a+b|}\\approx 1$\n",
    "The subtraction defined as\n",
    "$$ f: \\underset{(a,b)}{\\mathbb{R}^{2}}\\rightarrow \\underset{a-b}{\\mathbb{R}} $$\n",
    "has derivative $f'(a,b)=(1,-1)^T$, and thus, its condition number $K((a,b))\\approx \\frac{|a|+|b|}{|a-b|}$ which can be very big if $a\\approx b$.\n",
    "\n",
    "\n",
    "*   Finding the roots of $x^2-2px+1=0$ is well-conditioned, but we can develop an unstable algorithm: $x_-=p-\\sqrt{p^2-1}$ because this formula is subject to errors due to numerical cancellation of digits in the subtraction. \n",
    "The Newton's method could be a stable algorithm to solve this problem:\n",
    "$$ x_n = x_{n-1} -\\frac{x_{n-1}^2-2px_{n-1}+1}{2x_{n-1}-2p} $$\n",
    "The method's condition number is $K_n(p) = \\frac{|p|}{|x_n-p|}$. To compute $K_n^{num}(p)$ we notice that if the algorithm converges, then $x_n \\rightarrow x_+ \\textrm{ or } x_-$, therefore, $|x_n-p|\\rightarrow \\sqrt{p^2-1}$ and $k_n(p)\\rightarrow K_n^{num}(p)\\approx \\frac{|p|}{\\sqrt{p^2-1}}$ which is similar to the condition number of the exact problem. Then, if $p\\approx 1$ the problem is ill-conditioned."
   ]
  },
  {
   "cell_type": "markdown",
   "metadata": {
    "id": "mAiMlfz5arca",
    "slideshow": {
     "slide_type": "slide"
    }
   },
   "source": [
    "\n",
    "**Definition:** We say that the numerical method $F_n(x_n,d_n)=0$ is convergent if and only if\n",
    "\n",
    "$$\\forall \\epsilon>0\\; \\exists n_0(\\epsilon),\\exists \\delta(n_0,\\epsilon): \\forall n>n_0, \\forall \\|\\delta d_n\\|<\\delta(n_0,\\epsilon) \\Rightarrow \\|x(d)-x_n(d+\\delta d_n)\\|<\\epsilon    $$\n",
    "\n",
    "where $d$ is an admissible datum, $x(d)$ the corresponding solution, and $x(d+\\delta d_n)$ is the solution of the numerical problem ($F_n(x_n,d_n)$) with datum $d+\\delta d_n$.\n",
    "\n",
    "**Definition:** Absolute and relative errors: \n",
    "\n",
    "$$  E(x_n) = |x-x_n|  \\qquad E_{rel}(x_n) = \\frac{|x-x_n|}{|x|} \\quad (x\\neq 0)$$\n",
    "\n",
    "**Definition:** Error by component: $$E_{rel}^{c}(x_n) = \\underset{i,j}{\\max}\\frac{|(x-x_n)_{i,j}|}{|x_{i,j}|} \\quad (x_{i,j} \\neq 0)$$\n"
   ]
  },
  {
   "cell_type": "markdown",
   "metadata": {
    "id": "czREQk-CbWzJ",
    "slideshow": {
     "slide_type": "slide"
    }
   },
   "source": [
    "### Relations between stability and convergence\n",
    "\n",
    "The concepts of stability and convergence are strongly connected. If a (numerical) problem is well-posed, stability is a necessary condition for convergence. Moreover, if the numerical problem is consistent, stability is a sufficient condition for convergence. \n",
    "\n",
    "This is known as \"equivalence\" or \"Lax-Richtmyer\" theorem: \n",
    "\n",
    "**Theorem:** $\\color{blue}{\\text{For a consistent numerical method, stability is equivalent to convergence}}$.\n"
   ]
  },
  {
   "cell_type": "markdown",
   "metadata": {
    "id": "z9IZYBKUyOHF",
    "slideshow": {
     "slide_type": "slide"
    }
   },
   "source": [
    "\n",
    "### Sources of errors in computational models\n",
    "\n",
    "Whenever the numerical problem (NP) is an approximation of a mathematical problem (MP) and this latter is in turn a model of a physical problem (PP), we say that NP ($F_n(x_n,d_n)=0$) is a computational model for PP.\n",
    "\n",
    "The global error $e=|x_{ph}-x_n|$ can be interpreted as the sum of the MP error $e_m = x-x_{ph}$ and the computational problem error $e_c=\\hat{x}-x$ ($e=e_m+e_c$).\n",
    "\n",
    "<figure>\n",
    "<center>\n",
    "<img src='./error_flow.jpg' width=\"500\" height=\"600\"/>\n",
    "<figcaption>Sources of error</figcaption></center>\n",
    "</figure>\n",
    "\n",
    "\n",
    "$e_a$: Error induced by the numerical algorithm and the rounding errors.\n",
    "\n"
   ]
  },
  {
   "cell_type": "markdown",
   "metadata": {
    "id": "3BfvnpvGyVlD",
    "slideshow": {
     "slide_type": "fragment"
    }
   },
   "source": [
    "In general, we can enumerate the following sources of error:   \n",
    "1. Errors due to the model, that can be **reduced** by using a proper model.\n",
    "2. Errors due to data, that can be **reduced** improving the measurement's accuracy.\n",
    "3. Truncation errors, arising from the approximation (truncation) of limit operations (integrals, derivatives,...).\n",
    "4. Rounding errors.\n",
    "\n",
    "Type 3 and 4 errors give rise to the computational error. A numerical method will be convergent if this error can be made arbitrarily small increasing the computational effort. Although convergence is the primary goal of a numerical method, there are also the accuracy, the reliability and the efficiency.\n",
    "\n",
    "Accuracy means that the errors are small with respect to a fixed tolerance. It is usually quantified by the infinitesimal order of the error $e_n$ with respect to the discretization characteristic parameter (for example the largest grid spacing).\n",
    "\n",
    "**Note:** Machine precision does not limit, theoretically, the accuracy.\n",
    "\n",
    "Reliability means that it is very likely that the global error is below a certain tolerance.\n",
    "\n",
    "Efficiency means that the computational (effort) complexity needed to control the error (number of operations and memory) is as small as possible.\n",
    "\n",
    "**Definition:** Algorithm is a directive that indicates, through elementary operations, all the passages needed to solve a problem. It should finish after a finite number of steps, and as a consequence the executor (man or machine) must find within the algorithm itself all the instructions to completely solve the problem.\n",
    "\n",
    "Complexity of an algorithm is a measure of its executing time.\n",
    "\n",
    "Complexity of a problem is the complexity of the algorithm with smallest complexity capable of solving the problem."
   ]
  },
  {
   "cell_type": "markdown",
   "metadata": {
    "id": "QjgxTXHaDdSl",
    "slideshow": {
     "slide_type": "slide"
    }
   },
   "source": [
    "**Interesting links:**\n",
    "\n",
    "- [Well and ill-posed problems](https://www.calculushowto.com/well-posed-ill/)\n",
    "- [Condition number (Wikipedia)](https://en.wikipedia.org/wiki/Condition_number)"
   ]
  }
 ],
 "metadata": {
  "celltoolbar": "Slideshow",
  "colab": {
   "authorship_tag": "ABX9TyOzFFTEvEmBEAapw/Y1ocuM",
   "collapsed_sections": [],
   "name": "Clase_01.ipynb",
   "provenance": []
  },
  "kernelspec": {
   "display_name": "Python 3",
   "language": "python",
   "name": "python3"
  },
  "language_info": {
   "codemirror_mode": {
    "name": "ipython",
    "version": 3
   },
   "file_extension": ".py",
   "mimetype": "text/x-python",
   "name": "python",
   "nbconvert_exporter": "python",
   "pygments_lexer": "ipython3",
   "version": "3.8.10"
  }
 },
 "nbformat": 4,
 "nbformat_minor": 1
}
