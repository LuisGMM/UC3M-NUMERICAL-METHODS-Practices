{
 "cells": [
  {
   "cell_type": "code",
   "execution_count": 49,
   "metadata": {},
   "outputs": [],
   "source": [
    "import numpy as np\n",
    "import matplotlib.pyplot as plt\n",
    "from numpy import linalg as LA\n",
    "import math\n",
    "import time"
   ]
  },
  {
   "cell_type": "code",
   "execution_count": 36,
   "metadata": {},
   "outputs": [],
   "source": [
    "def to_base(base:int, number:int) -> str:\n",
    "    \"\"\" Changes an integer from decimal base to other base. \n",
    "\n",
    "    Args:\n",
    "        base (int): New base of the number to be converted.\n",
    "        number (int): Number to be converted to the new base.\n",
    "\n",
    "    Returns:\n",
    "        str: A string representation of the number in the new base.\n",
    "    \"\"\"\n",
    "\n",
    "    cociente = number // base\n",
    "    remainder = number % base\n",
    "    ans = str(remainder)\n",
    "\n",
    "    while (cociente >= base):\n",
    "\n",
    "        remainder = cociente % base\n",
    "        cociente //= base\n",
    "        ans = str(remainder) + ans\n",
    "\n",
    "    else: \n",
    "        return str(cociente%base) + ans\n"
   ]
  },
  {
   "cell_type": "code",
   "execution_count": 37,
   "metadata": {},
   "outputs": [
    {
     "name": "stdout",
     "output_type": "stream",
     "text": [
      "4\n",
      "140\n"
     ]
    }
   ],
   "source": [
    "\n",
    "print(to_base(5, 45))"
   ]
  },
  {
   "cell_type": "code",
   "execution_count": null,
   "metadata": {},
   "outputs": [],
   "source": [
    "\n",
    "    "
   ]
  },
  {
   "cell_type": "code",
   "execution_count": 25,
   "metadata": {},
   "outputs": [
    {
     "name": "stdout",
     "output_type": "stream",
     "text": [
      "9\n",
      "0.9999999999999999\n"
     ]
    }
   ],
   "source": [
    "\n",
    "s = 0.0\n",
    "\n",
    "for i in range(1000):\n",
    "    s += 1.0/10.0\n",
    "    if round(s, 1) == 1.0: # Error 2 Literally compraing floats\n",
    "        break\n",
    "\n",
    "print(i) # Error 2 should be the variable s, not i\n",
    "print(s)"
   ]
  },
  {
   "cell_type": "code",
   "execution_count": 52,
   "metadata": {},
   "outputs": [
    {
     "name": "stdout",
     "output_type": "stream",
     "text": [
      "1.0\n"
     ]
    }
   ],
   "source": [
    "g = 1\n",
    "delta = (2**(-53))\n",
    "for j in range(1,2**(20)):\n",
    "    g = math.fsum([g, delta])\n",
    "\n",
    "print(g) # Error, g is being truncated"
   ]
  },
  {
   "cell_type": "code",
   "execution_count": null,
   "metadata": {},
   "outputs": [],
   "source": []
  },
  {
   "cell_type": "code",
   "execution_count": 63,
   "metadata": {},
   "outputs": [],
   "source": [
    "def taylor_cos(x:float, iter:int)->float:\n",
    "\n",
    "    ans = 0\n",
    "\n",
    "    for n in range(iter):\n",
    "\n",
    "        coeff = (-1)**n \n",
    "        num = x**(2*n)\n",
    "        dnum = math.factorial(2*n)\n",
    "\n",
    "        ans +=  coeff*(num/dnum) \n",
    "    \n",
    "    return ans\n",
    "\n"
   ]
  },
  {
   "cell_type": "code",
   "execution_count": 64,
   "metadata": {},
   "outputs": [
    {
     "name": "stdout",
     "output_type": "stream",
     "text": [
      "0.7071068056832942\n"
     ]
    }
   ],
   "source": [
    "print(taylor_cos(math.radians(45), 5))"
   ]
  }
 ],
 "metadata": {
  "interpreter": {
   "hash": "7a542ca580817fc4dd55327026e074e2fa0cd470fc5dee9350c2d8b13822db8d"
  },
  "kernelspec": {
   "display_name": "Python 3.8.0 32-bit",
   "language": "python",
   "name": "python3"
  },
  "language_info": {
   "codemirror_mode": {
    "name": "ipython",
    "version": 3
   },
   "file_extension": ".py",
   "mimetype": "text/x-python",
   "name": "python",
   "nbconvert_exporter": "python",
   "pygments_lexer": "ipython3",
   "version": "3.8.0"
  },
  "orig_nbformat": 4
 },
 "nbformat": 4,
 "nbformat_minor": 2
}
