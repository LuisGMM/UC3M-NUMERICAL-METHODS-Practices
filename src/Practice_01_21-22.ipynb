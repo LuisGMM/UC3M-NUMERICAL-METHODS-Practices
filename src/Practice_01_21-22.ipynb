{
 "cells": [
  {
   "cell_type": "markdown",
   "metadata": {
    "id": "NvylEFptyEHQ"
   },
   "source": [
    "In this practice we are going to cover Python essentials for numerical methods."
   ]
  },
  {
   "cell_type": "code",
   "execution_count": 1,
   "metadata": {
    "id": "nCtuVLrIx5MC"
   },
   "outputs": [],
   "source": [
    "import numpy as np\n",
    "import matplotlib.pyplot as plt\n",
    "from mpl_toolkits.mplot3d import Axes3D\n",
    "from numpy import linalg as LA"
   ]
  },
  {
   "cell_type": "code",
   "execution_count": 2,
   "metadata": {
    "id": "T2PFmdduzD1_"
   },
   "outputs": [
    {
     "data": {
      "text/plain": [
       "array([[0., 0., 0.],\n",
       "       [0., 0., 0.]])"
      ]
     },
     "execution_count": 2,
     "metadata": {},
     "output_type": "execute_result"
    }
   ],
   "source": [
    "# a  = np.full( ( n_rows, ncolums,... ), value )  \n",
    "# The dimension definition has as many elements as the dimension of the array\n",
    "# float( 'nan' ) \n",
    "np.full((2,3),4)\n",
    "# The following gives the same result\n",
    "# a  = np.ones( ( n_rows, ncolums,... ))\n",
    "4*np.ones((2,3))\n",
    "# a  = np.zeros( ( n_rows, ncolums,... ))\n",
    "np.zeros((2,3))"
   ]
  },
  {
   "cell_type": "code",
   "execution_count": 3,
   "metadata": {
    "id": "SQcyJAZE3w2X"
   },
   "outputs": [
    {
     "name": "stdout",
     "output_type": "stream",
     "text": [
      "[[1 2]\n",
      " [4 5]]\n",
      "[[ 7  8]\n",
      " [ 9 10]]\n"
     ]
    }
   ],
   "source": [
    "x = np.array([[1, 2], [4, 5]])\n",
    "y = np.array([[7, 8], [9, 10]])\n",
    "print(x)\n",
    "print(y)"
   ]
  },
  {
   "cell_type": "code",
   "execution_count": 4,
   "metadata": {
    "id": "oZBZnvIJ4DTI"
   },
   "outputs": [
    {
     "data": {
      "text/plain": [
       "array([[ 8, 10],\n",
       "       [13, 15]])"
      ]
     },
     "execution_count": 4,
     "metadata": {},
     "output_type": "execute_result"
    }
   ],
   "source": [
    "x+y"
   ]
  },
  {
   "cell_type": "code",
   "execution_count": 5,
   "metadata": {
    "id": "O5QU0RCy4cNo"
   },
   "outputs": [
    {
     "data": {
      "text/plain": [
       "array([[ 7, 16],\n",
       "       [36, 50]])"
      ]
     },
     "execution_count": 5,
     "metadata": {},
     "output_type": "execute_result"
    }
   ],
   "source": [
    "x*y # This is the elementwise operation"
   ]
  },
  {
   "cell_type": "code",
   "execution_count": 6,
   "metadata": {
    "id": "5scxWWbA4mlB"
   },
   "outputs": [
    {
     "data": {
      "text/plain": [
       "array([[25, 28],\n",
       "       [73, 82]])"
      ]
     },
     "execution_count": 6,
     "metadata": {},
     "output_type": "execute_result"
    }
   ],
   "source": [
    "x@y # This is the matrix product"
   ]
  },
  {
   "cell_type": "code",
   "execution_count": 7,
   "metadata": {
    "id": "Lu_bDAb34svg"
   },
   "outputs": [
    {
     "data": {
      "text/plain": [
       "array([[0.14285714, 0.25      ],\n",
       "       [0.44444444, 0.5       ]])"
      ]
     },
     "execution_count": 7,
     "metadata": {},
     "output_type": "execute_result"
    }
   ],
   "source": [
    "np.divide(x,y) # Elementwise division"
   ]
  },
  {
   "cell_type": "code",
   "execution_count": 8,
   "metadata": {
    "id": "99Vja0MV5UNA"
   },
   "outputs": [
    {
     "name": "stdout",
     "output_type": "stream",
     "text": [
      "[[1.         1.41421356]\n",
      " [2.         2.23606798]]\n"
     ]
    }
   ],
   "source": [
    "print (np.sqrt(x)) # Elementwise square root"
   ]
  },
  {
   "cell_type": "code",
   "execution_count": 9,
   "metadata": {
    "id": "kCpmjzcq7bLC"
   },
   "outputs": [
    {
     "name": "stdout",
     "output_type": "stream",
     "text": [
      "[[ 7  8]\n",
      " [ 9 10]]\n"
     ]
    },
    {
     "data": {
      "text/plain": [
       "array([15, 19])"
      ]
     },
     "execution_count": 9,
     "metadata": {},
     "output_type": "execute_result"
    }
   ],
   "source": [
    "print(y)\n",
    "np.sum(y,axis=1) # Write axis=1 to see what happens"
   ]
  },
  {
   "cell_type": "code",
   "execution_count": 10,
   "metadata": {
    "id": "oLkfia0q7pI5"
   },
   "outputs": [
    {
     "data": {
      "text/plain": [
       "array([[1, 4],\n",
       "       [2, 5]])"
      ]
     },
     "execution_count": 10,
     "metadata": {},
     "output_type": "execute_result"
    }
   ],
   "source": [
    "np.transpose(x) # also works with x.T"
   ]
  },
  {
   "cell_type": "code",
   "execution_count": 11,
   "metadata": {
    "id": "V5-ge_jr77ZY"
   },
   "outputs": [],
   "source": [
    "a = np.array([[1, 2], [3, 4]])\n",
    "b = np.array([[5, 6]])\n",
    "v=np.concatenate((a, b), axis=0) # change the axis to 1 and see what happens"
   ]
  },
  {
   "cell_type": "code",
   "execution_count": 12,
   "metadata": {
    "id": "xo9YGziD99px"
   },
   "outputs": [],
   "source": [
    "# now try\n",
    "w=np.concatenate((a, b.T), axis=1)"
   ]
  },
  {
   "cell_type": "code",
   "execution_count": 13,
   "metadata": {
    "id": "05uqrzIz_YTT"
   },
   "outputs": [
    {
     "name": "stdout",
     "output_type": "stream",
     "text": [
      "[[1 2]\n",
      " [3 4]\n",
      " [5 6]]\n"
     ]
    },
    {
     "data": {
      "text/plain": [
       "array([2, 6])"
      ]
     },
     "execution_count": 13,
     "metadata": {},
     "output_type": "execute_result"
    }
   ],
   "source": [
    "# slicing (the coordinates of the arrays start at 0)\n",
    "print(v)\n",
    "v[::2,1] # What does it means?"
   ]
  },
  {
   "cell_type": "code",
   "execution_count": 14,
   "metadata": {
    "id": "89RD60rrHwaP"
   },
   "outputs": [
    {
     "data": {
      "text/plain": [
       "array([4, 6, 2])"
      ]
     },
     "execution_count": 14,
     "metadata": {},
     "output_type": "execute_result"
    }
   ],
   "source": [
    "v[[1,2,0],1]"
   ]
  },
  {
   "cell_type": "code",
   "execution_count": 15,
   "metadata": {
    "id": "yslMjLnnEVzz"
   },
   "outputs": [
    {
     "name": "stdout",
     "output_type": "stream",
     "text": [
      "(3, 2)\n"
     ]
    }
   ],
   "source": [
    "print(v.shape) # gives you the dimensions of the array"
   ]
  },
  {
   "cell_type": "code",
   "execution_count": 16,
   "metadata": {
    "id": "XF5SXKI6Ee2K"
   },
   "outputs": [
    {
     "name": "stdout",
     "output_type": "stream",
     "text": [
      "[[ 0  1  2  3]\n",
      " [ 4  5  6  7]\n",
      " [ 8  9 10 11]\n",
      " [12 13 14 15]]\n"
     ]
    }
   ],
   "source": [
    "z = np.reshape(np.arange(16),(4,4))\n",
    "print(z)"
   ]
  },
  {
   "cell_type": "code",
   "execution_count": 17,
   "metadata": {
    "id": "5q3m3oquHTwU"
   },
   "outputs": [
    {
     "data": {
      "text/plain": [
       "array([[0.73703263, 0.08406427],\n",
       "       [0.21028147, 0.83184831],\n",
       "       [0.25540471, 0.25771101]])"
      ]
     },
     "execution_count": 17,
     "metadata": {},
     "output_type": "execute_result"
    }
   ],
   "source": [
    "np.random.rand(3,2) # try np.random.randint(5, size=(2, 4))"
   ]
  },
  {
   "cell_type": "code",
   "execution_count": 18,
   "metadata": {
    "id": "vxLH9d6ZIGTf"
   },
   "outputs": [
    {
     "name": "stdout",
     "output_type": "stream",
     "text": [
      "[[1 2]\n",
      " [4 5]]\n"
     ]
    },
    {
     "data": {
      "text/plain": [
       "-2.9999999999999996"
      ]
     },
     "execution_count": 18,
     "metadata": {},
     "output_type": "execute_result"
    }
   ],
   "source": [
    "print(x)\n",
    "LA.det(x)"
   ]
  },
  {
   "cell_type": "code",
   "execution_count": 19,
   "metadata": {
    "id": "DxjtzboEIai7"
   },
   "outputs": [
    {
     "data": {
      "text/plain": [
       "array([[-1.66666667,  0.66666667],\n",
       "       [ 1.33333333, -0.33333333]])"
      ]
     },
     "execution_count": 19,
     "metadata": {},
     "output_type": "execute_result"
    }
   ],
   "source": [
    "LA.inv(x)"
   ]
  },
  {
   "cell_type": "code",
   "execution_count": 20,
   "metadata": {
    "id": "hVIR5z2oIsSy"
   },
   "outputs": [
    {
     "data": {
      "text/plain": [
       "2"
      ]
     },
     "execution_count": 20,
     "metadata": {},
     "output_type": "execute_result"
    }
   ],
   "source": [
    "LA.matrix_rank(x)"
   ]
  },
  {
   "cell_type": "code",
   "execution_count": 21,
   "metadata": {
    "id": "DjHbXWnrIyHc"
   },
   "outputs": [
    {
     "name": "stdout",
     "output_type": "stream",
     "text": [
      "[1.+1.j 1.-1.j]\n",
      "[[0.70710678+0.j         0.70710678-0.j        ]\n",
      " [0.        -0.70710678j 0.        +0.70710678j]]\n"
     ]
    }
   ],
   "source": [
    "eval, evec = LA.eig(np.array([[1, -1], [1, 1]]))\n",
    "print(eval)\n",
    "print(evec)"
   ]
  },
  {
   "cell_type": "code",
   "execution_count": 22,
   "metadata": {
    "id": "owukNjcE1sRB"
   },
   "outputs": [
    {
     "name": "stdout",
     "output_type": "stream",
     "text": [
      "0\n",
      "1\n",
      "2\n",
      "3\n",
      "4\n",
      "5\n",
      "6\n",
      "7\n",
      "8\n",
      "9\n"
     ]
    },
    {
     "data": {
      "text/plain": [
       "range(0, 10)"
      ]
     },
     "execution_count": 22,
     "metadata": {},
     "output_type": "execute_result"
    }
   ],
   "source": [
    "# b = range(start_value, stop_value, step_size)\n",
    "for seq in range(10):\n",
    "    print(seq)\n",
    "\n",
    "range(10)    "
   ]
  },
  {
   "cell_type": "code",
   "execution_count": 23,
   "metadata": {
    "id": "MPOrdDhrZ5fu"
   },
   "outputs": [
    {
     "name": "stdout",
     "output_type": "stream",
     "text": [
      "1\n",
      "2\n",
      "3\n",
      "4\n",
      "5\n"
     ]
    }
   ],
   "source": [
    "i = 1\n",
    "while i < 6:\n",
    "  print(i)\n",
    "  i += 1"
   ]
  },
  {
   "cell_type": "markdown",
   "metadata": {
    "id": "6QJXuHH1MAtE"
   },
   "source": [
    "\n",
    "\n",
    "1.   Read the matplotlib documentation to be able to plot the following functions:\n",
    "\n",
    "*   $f(x)=5e^x-\\cos(x)$ in $[-1,1]$.\n",
    "*   $f(x,y)= \\cos(3x)*\\sin(2y)$ in $[-5,5]\\times[-5,5]$.\n",
    "2. Write a function that plots an user defined ellipse for given long and short axes, and focuses.\n",
    "3. Write a script that calculates the least squares solution of Ax=b with $A=[[1, 2],[3, 4],[5, 6]]$ and $b=[1,2,3]$.\n",
    "4. Use np.triu and np.tril to create an upper (respectively, lower) triangular matrix of dimension 10 having 2 on the main diagonal and −3 on the second upper (respectively, lower) diagonal.\n",
    "     \n",
    "5. Write a code that interchange of the third and seventh row of the matrices built up in the previous exercise, and then the instructions allowing the     interchange between the fourth and eighth column.\n",
    "\n",
    "6. Verify whether or not the following vectors in $\\mathbb{R}^4$ are linearly independent: v1 =[0 1 0 1], v2 =[1 2 3 4], v3 =[1 0 1 0], v4 =[0 0 1 1]. \n",
    "(What ways do you know to do it? Look for the right commands online).\n"
   ]
  },
  {
   "cell_type": "markdown",
   "metadata": {},
   "source": [
    "# Solution"
   ]
  },
  {
   "cell_type": "code",
   "execution_count": 24,
   "metadata": {},
   "outputs": [],
   "source": [
    "import numpy as np\n",
    "import matplotlib.pyplot as plt\n",
    "\n",
    "from matplotlib.patches import Ellipse"
   ]
  },
  {
   "cell_type": "code",
   "execution_count": 25,
   "metadata": {},
   "outputs": [],
   "source": [
    "def f(x):   return 5*np.exp(x) - np.cos(x)\n",
    "\n",
    "def g(x,y):    return np.cos(3*x)*np.sin(2*y)\n",
    "\n",
    "domain_f_x = np.linspace(-1,1, 100)\n",
    "\n",
    "domain_g_x_y = np.linspace(-5,5, 500)\n"
   ]
  },
  {
   "cell_type": "code",
   "execution_count": 26,
   "metadata": {},
   "outputs": [
    {
     "data": {
      "image/png": "[encoded data removed]",
      "text/plain": [
       "<Figure size 432x288 with 1 Axes>"
      ]
     },
     "metadata": {
      "needs_background": "light"
     },
     "output_type": "display_data"
    }
   ],
   "source": [
    "plt.plot(domain_f_x, [f(x) for x in domain_f_x])\n",
    "\n",
    "plt.show()"
   ]
  },
  {
   "cell_type": "code",
   "execution_count": 27,
   "metadata": {},
   "outputs": [
    {
     "data": {
      "text/plain": [
       "Text(0.5, 0, 'z')"
      ]
     },
     "execution_count": 27,
     "metadata": {},
     "output_type": "execute_result"
    },
    {
     "data": {
      "image/png": "[encoded data removed]",
      "text/plain": [
       "<Figure size 432x288 with 1 Axes>"
      ]
     },
     "metadata": {
      "needs_background": "light"
     },
     "output_type": "display_data"
    }
   ],
   "source": [
    "\n",
    "X, Y = np.meshgrid(domain_g_x_y, domain_g_x_y)\n",
    "Z = g(X,Y)\n",
    "\n",
    "fig = plt.figure()\n",
    "ax = plt.axes(projection='3d')\n",
    "ax.contour3D(X, Y, Z,  50, cmap='binary')\n",
    "ax.set_xlabel('x')\n",
    "ax.set_ylabel('y')\n",
    "ax.set_zlabel('z')\n",
    "\n",
    "\n",
    "# plt.plot(domain_f_x_y, domain_f_x_y, [g(x, y) for x, y in zip(domain_f_x_y, domain_f_x_y)])\n",
    "# plt.show()"
   ]
  },
  {
   "cell_type": "code",
   "execution_count": 28,
   "metadata": {},
   "outputs": [],
   "source": [
    "def plot_ellipse(xy, width, height, angle):\n",
    "    \n",
    "    fig2, ax2 = plt.subplots()\n",
    "\n",
    "    plt.xlim([-width, width])\n",
    "    plt.ylim([-height, height])\n",
    "    \n",
    "    ax2.add_artist(Ellipse(xy, width, height, angle))\n",
    "    plt.show()"
   ]
  },
  {
   "cell_type": "code",
   "execution_count": 29,
   "metadata": {},
   "outputs": [
    {
     "data": {
      "image/png": "[encoded data removed]",
      "text/plain": [
       "<Figure size 432x288 with 1 Axes>"
      ]
     },
     "metadata": {
      "needs_background": "light"
     },
     "output_type": "display_data"
    }
   ],
   "source": [
    "plot_ellipse((0,0), 10, 15, 0)"
   ]
  },
  {
   "cell_type": "code",
   "execution_count": 30,
   "metadata": {},
   "outputs": [
    {
     "name": "stderr",
     "output_type": "stream",
     "text": [
      "/tmp/ipykernel_49214/1214875996.py:4: FutureWarning: `rcond` parameter will change to the default of machine precision times ``max(M, N)`` where M and N are the input matrix dimensions.\n",
      "To use the future default and silence this warning we advise to pass `rcond=None`, to keep using the old, explicitly pass `rcond=-1`.\n",
      "  np.linalg.lstsq(A, B)\n"
     ]
    },
    {
     "data": {
      "text/plain": [
       "(array([-5.15637432e-17,  5.00000000e-01]),\n",
       " array([3.08148791e-33]),\n",
       " 2,\n",
       " array([9.52551809, 0.51430058]))"
      ]
     },
     "execution_count": 30,
     "metadata": {},
     "output_type": "execute_result"
    }
   ],
   "source": [
    "A = [[1, 2],[3, 4],[5, 6]]\n",
    "B = [1,2,3]\n",
    "\n",
    "np.linalg.lstsq(A, B)"
   ]
  },
  {
   "cell_type": "code",
   "execution_count": 31,
   "metadata": {},
   "outputs": [],
   "source": [
    "\n",
    "m1 = np.full((10,10), -3)\n",
    "np.fill_diagonal(m1, 2)\n",
    "\n",
    "m1u = np.triu(m1)\n",
    "m1l = np.tril(m1)"
   ]
  },
  {
   "cell_type": "code",
   "execution_count": 32,
   "metadata": {},
   "outputs": [
    {
     "name": "stdout",
     "output_type": "stream",
     "text": [
      "[[ 2 -3 -3 -3 -3 -3 -3 -3 -3 -3]\n",
      " [ 0  2 -3 -3 -3 -3 -3 -3 -3 -3]\n",
      " [ 0  0  2 -3 -3 -3 -3 -3 -3 -3]\n",
      " [ 0  0  0  2 -3 -3 -3 -3 -3 -3]\n",
      " [ 0  0  0  0  2 -3 -3 -3 -3 -3]\n",
      " [ 0  0  0  0  0  2 -3 -3 -3 -3]\n",
      " [ 0  0  0  0  0  0  2 -3 -3 -3]\n",
      " [ 0  0  0  0  0  0  0  2 -3 -3]\n",
      " [ 0  0  0  0  0  0  0  0  2 -3]\n",
      " [ 0  0  0  0  0  0  0  0  0  2]] \n",
      " [[ 2  0  0  0  0  0  0  0  0  0]\n",
      " [-3  2  0  0  0  0  0  0  0  0]\n",
      " [-3 -3  2  0  0  0  0  0  0  0]\n",
      " [-3 -3 -3  2  0  0  0  0  0  0]\n",
      " [-3 -3 -3 -3  2  0  0  0  0  0]\n",
      " [-3 -3 -3 -3 -3  2  0  0  0  0]\n",
      " [-3 -3 -3 -3 -3 -3  2  0  0  0]\n",
      " [-3 -3 -3 -3 -3 -3 -3  2  0  0]\n",
      " [-3 -3 -3 -3 -3 -3 -3 -3  2  0]\n",
      " [-3 -3 -3 -3 -3 -3 -3 -3 -3  2]]\n"
     ]
    }
   ],
   "source": [
    "print(m1u, '\\n', m1l)"
   ]
  },
  {
   "cell_type": "code",
   "execution_count": 33,
   "metadata": {},
   "outputs": [],
   "source": [
    "def do_shit(m):\n",
    "    \n",
    "    m_new = m.copy()\n",
    "\n",
    "    m_new[2], m_new[6] = m_new[6], m_new[2]\n",
    "    \n",
    "    m_new[:, 3], m_new[:, 7] = m_new[:, 7], m_new[:, 3] \n",
    "\n",
    "\n",
    "    return m_new"
   ]
  },
  {
   "cell_type": "code",
   "execution_count": 34,
   "metadata": {},
   "outputs": [
    {
     "name": "stdout",
     "output_type": "stream",
     "text": [
      "[[ 2 -3 -3 -3 -3 -3 -3 -3 -3 -3]\n",
      " [ 0  2 -3 -3 -3 -3 -3 -3 -3 -3]\n",
      " [ 0  0  0 -3  0  0  2 -3 -3 -3]\n",
      " [ 0  0  0 -3 -3 -3 -3 -3 -3 -3]\n",
      " [ 0  0  0 -3  2 -3 -3 -3 -3 -3]\n",
      " [ 0  0  0 -3  0  2 -3 -3 -3 -3]\n",
      " [ 0  0  0 -3  0  0  2 -3 -3 -3]\n",
      " [ 0  0  0  2  0  0  0  2 -3 -3]\n",
      " [ 0  0  0  0  0  0  0  0  2 -3]\n",
      " [ 0  0  0  0  0  0  0  0  0  2]] \n",
      " [[ 2 -3 -3 -3 -3 -3 -3 -3 -3 -3]\n",
      " [ 0  2 -3 -3 -3 -3 -3 -3 -3 -3]\n",
      " [ 0  0  0 -3  0  0  2 -3 -3 -3]\n",
      " [ 0  0  0 -3 -3 -3 -3 -3 -3 -3]\n",
      " [ 0  0  0 -3  2 -3 -3 -3 -3 -3]\n",
      " [ 0  0  0 -3  0  2 -3 -3 -3 -3]\n",
      " [ 0  0  0 -3  0  0  2 -3 -3 -3]\n",
      " [ 0  0  0  2  0  0  0  2 -3 -3]\n",
      " [ 0  0  0  0  0  0  0  0  2 -3]\n",
      " [ 0  0  0  0  0  0  0  0  0  2]]\n"
     ]
    }
   ],
   "source": [
    "print(do_shit(m1u), '\\n', do_shit(m1u))"
   ]
  }
 ],
 "metadata": {
  "colab": {
   "authorship_tag": "ABX9TyMngqSpsEQmVNrIdmK/XLcW",
   "name": "Practice_01.ipynb",
   "provenance": []
  },
  "kernelspec": {
   "display_name": "Python 3",
   "language": "python",
   "name": "python3"
  },
  "language_info": {
   "codemirror_mode": {
    "name": "ipython",
    "version": 3
   },
   "file_extension": ".py",
   "mimetype": "text/x-python",
   "name": "python",
   "nbconvert_exporter": "python",
   "pygments_lexer": "ipython3",
   "version": "3.8.10"
  }
 },
 "nbformat": 4,
 "nbformat_minor": 1
}
