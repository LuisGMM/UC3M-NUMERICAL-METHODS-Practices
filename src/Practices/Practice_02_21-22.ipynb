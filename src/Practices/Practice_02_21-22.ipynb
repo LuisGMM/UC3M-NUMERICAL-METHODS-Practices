{
 "cells": [
  {
   "cell_type": "markdown",
   "metadata": {
    "id": "NvylEFptyEHQ"
   },
   "source": [
    "In this practice we are going to cover Python commands related with precission, and experiment with the consecuences of the computer's limited precission arithmetic."
   ]
  },
  {
   "cell_type": "code",
   "execution_count": 7,
   "metadata": {
    "executionInfo": {
     "elapsed": 596,
     "status": "ok",
     "timestamp": 1615194325701,
     "user": {
      "displayName": "PEDRO GONZALEZ RODRIGUEZ",
      "photoUrl": "",
      "userId": "04472722633676512240"
     },
     "user_tz": -60
    },
    "id": "nCtuVLrIx5MC"
   },
   "outputs": [],
   "source": [
    "import numpy as np\n",
    "import matplotlib.pyplot as plt\n",
    "from numpy import linalg as LA\n",
    "import time"
   ]
  },
  {
   "cell_type": "markdown",
   "metadata": {
    "id": "p5fzB0TwWwv2"
   },
   "source": [
    "**Rounding:**"
   ]
  },
  {
   "cell_type": "code",
   "execution_count": 8,
   "metadata": {
    "colab": {
     "base_uri": "https://localhost:8080/"
    },
    "executionInfo": {
     "elapsed": 562,
     "status": "ok",
     "timestamp": 1614969288528,
     "user": {
      "displayName": "PEDRO GONZALEZ RODRIGUEZ",
      "photoUrl": "",
      "userId": "04472722633676512240"
     },
     "user_tz": -60
    },
    "id": "rACGJiOoYHOJ",
    "outputId": "0fae0c58-396a-43cf-ef88-6dd232b731d9"
   },
   "outputs": [
    {
     "name": "stdout",
     "output_type": "stream",
     "text": [
      "[-1. -1. -0.  1.  2.  2.  2.]\n",
      "[-2. -2. -1.  0.  1.  1.  2.]\n",
      "[-1. -1. -0.  0.  1.  1.  2.]\n",
      "[-1.6667 -1.5    -0.2     0.2     1.55    1.6667  2.    ]\n"
     ]
    }
   ],
   "source": [
    "a = np.array([-5/3, -3/2, -1/5, 1/5, 31/20, 5/3, 2.0])\n",
    "print(np.ceil(a))\n",
    "print(np.floor(a))\n",
    "print(np.trunc(a))\n",
    "print(np.round(a,4))"
   ]
  },
  {
   "cell_type": "code",
   "execution_count": 9,
   "metadata": {
    "id": "9JumeG2KZ-b9"
   },
   "outputs": [
    {
     "name": "stdout",
     "output_type": "stream",
     "text": [
      "0.3333333333333333\n",
      "0.33333334\n"
     ]
    }
   ],
   "source": [
    "x=np.float64(1./3.)\n",
    "y=np.float32(1./3.)\n",
    "print(x)\n",
    "print(y)"
   ]
  },
  {
   "cell_type": "code",
   "execution_count": 10,
   "metadata": {
    "id": "nq90ta84aHVm"
   },
   "outputs": [
    {
     "data": {
      "text/plain": [
       "1.0000000298023224"
      ]
     },
     "execution_count": 10,
     "metadata": {},
     "output_type": "execute_result"
    }
   ],
   "source": [
    "np.float64(3)*y # np.float32(3)*y . Compare results"
   ]
  },
  {
   "cell_type": "code",
   "execution_count": 11,
   "metadata": {
    "id": "MfXggMn6a1m1"
   },
   "outputs": [
    {
     "data": {
      "text/plain": [
       "0"
      ]
     },
     "execution_count": 11,
     "metadata": {},
     "output_type": "execute_result"
    }
   ],
   "source": [
    "0*0"
   ]
  },
  {
   "cell_type": "code",
   "execution_count": 12,
   "metadata": {
    "id": "ZyHSau6Aa5GJ"
   },
   "outputs": [
    {
     "ename": "ZeroDivisionError",
     "evalue": "division by zero",
     "output_type": "error",
     "traceback": [
      "\u001b[0;31m---------------------------------------------------------------------------\u001b[0m",
      "\u001b[0;31mZeroDivisionError\u001b[0m                         Traceback (most recent call last)",
      "\u001b[1;32m/home/luisgmm/Documents/GitHub/UC3M-NUMERICAL-METHODS-Practices/Practice_02_21-22.ipynb Cell 8'\u001b[0m in \u001b[0;36m<cell line: 1>\u001b[0;34m()\u001b[0m\n\u001b[0;32m----> <a href='vscode-notebook-cell:/home/luisgmm/Documents/GitHub/UC3M-NUMERICAL-METHODS-Practices/Practice_02_21-22.ipynb#ch0000007?line=0'>1</a>\u001b[0m \u001b[39m1\u001b[39;49m\u001b[39m/\u001b[39;49m\u001b[39m0\u001b[39;49m\n",
      "\u001b[0;31mZeroDivisionError\u001b[0m: division by zero"
     ]
    }
   ],
   "source": [
    "1/0"
   ]
  },
  {
   "cell_type": "code",
   "execution_count": null,
   "metadata": {
    "id": "-Q4C6uj8-8Vw"
   },
   "outputs": [],
   "source": [
    "0**0         # This should be NaN"
   ]
  },
  {
   "cell_type": "markdown",
   "metadata": {
    "id": "WuE4NAhbVGn3"
   },
   "source": [
    "[Why 0**0=1?](https://en.wikipedia.org/wiki/Zero_to_the_power_of_zero)"
   ]
  },
  {
   "cell_type": "code",
   "execution_count": null,
   "metadata": {
    "colab": {
     "base_uri": "https://localhost:8080/"
    },
    "executionInfo": {
     "elapsed": 512,
     "status": "ok",
     "timestamp": 1613990008398,
     "user": {
      "displayName": "PEDRO GONZALEZ RODRIGUEZ",
      "photoUrl": "",
      "userId": "04472722633676512240"
     },
     "user_tz": -60
    },
    "id": "vrXRUO5NccSg",
    "outputId": "528d4230-2e15-403f-e7a8-e7670fdd6685"
   },
   "outputs": [],
   "source": [
    "print(np.finfo(np.float32).eps)\n",
    "print(np.finfo(float).eps)"
   ]
  },
  {
   "cell_type": "markdown",
   "metadata": {},
   "source": [
    "In Python 3, the / operator performs floating-point division, the // operator performs floor division, and the ‘%’ (or modulo) operator calculates the modulo division:"
   ]
  },
  {
   "cell_type": "code",
   "execution_count": null,
   "metadata": {},
   "outputs": [],
   "source": [
    "print('5 / 3:', 5/3)\n",
    "print('5 // 3:', 5//3)\n",
    "print('5 % 3:', 5%3)"
   ]
  },
  {
   "cell_type": "markdown",
   "metadata": {},
   "source": [
    "**Exercise:** Use the previous commands to write a function that changes from decimal to any other base. You might also need the commands \"str\", \"float\" and \"int\"."
   ]
  },
  {
   "cell_type": "markdown",
   "metadata": {},
   "source": [
    "The following functions shows how the rounding error accumulates when you perform operations with floating-point numbers. If we run:"
   ]
  },
  {
   "cell_type": "code",
   "execution_count": null,
   "metadata": {},
   "outputs": [],
   "source": [
    "1+1/3-1/3"
   ]
  },
  {
   "cell_type": "markdown",
   "metadata": {},
   "source": [
    "it works just fine but if we use the following function to perform the same operations several times (check what happens yourself):"
   ]
  },
  {
   "cell_type": "code",
   "execution_count": null,
   "metadata": {},
   "outputs": [],
   "source": [
    "def add_and_subtract(iterations):\n",
    "    result = 1\n",
    "    \n",
    "    for i in range(iterations):\n",
    "        result += 1/3\n",
    "\n",
    "    for i in range(iterations):\n",
    "        result -= 1/3\n",
    "    return result"
   ]
  },
  {
   "cell_type": "markdown",
   "metadata": {},
   "source": [
    "**Exercise:**\n",
    "* Write in a paper what the following code is doing, and calculate by hand when should it stop.\n",
    "* Run the code.\n",
    "* Change the code so it works as it should"
   ]
  },
  {
   "cell_type": "code",
   "execution_count": null,
   "metadata": {},
   "outputs": [
    {
     "name": "stdout",
     "output_type": "stream",
     "text": [
      "999\n"
     ]
    }
   ],
   "source": [
    "s = 0.0\n",
    "\n",
    "for i in range(1000):\n",
    "    s += 1.0/10.0\n",
    "    if s == 1.0:\n",
    "        break\n",
    "print(i) "
   ]
  },
  {
   "cell_type": "markdown",
   "metadata": {
    "id": "2azwvOE_hzp2"
   },
   "source": [
    "**Curiosities of the floating point arithmetic:** Which is the right way to add numbers?"
   ]
  },
  {
   "cell_type": "code",
   "execution_count": null,
   "metadata": {
    "id": "J4DLiYLRhyUa"
   },
   "outputs": [],
   "source": [
    "g = 1\n",
    "delta = 2**(-53);\n",
    "for j in range(1,2**(20)):\n",
    "    g += delta\n",
    "\n",
    "print(g)"
   ]
  },
  {
   "cell_type": "markdown",
   "metadata": {
    "id": "e1agHY3TjgNH"
   },
   "source": [
    "Do the same sum changing the order."
   ]
  },
  {
   "cell_type": "code",
   "execution_count": null,
   "metadata": {
    "id": "tag9M-2KjHJz"
   },
   "outputs": [],
   "source": [
    "g = 0\n",
    "delta = 2**(-53);\n",
    "for j in range(1,2**(20)):\n",
    "    g += delta\n",
    "\n",
    "g+= 1    \n",
    "\n",
    "print(g)"
   ]
  },
  {
   "cell_type": "code",
   "execution_count": null,
   "metadata": {
    "id": "_IJlggNGz5rk"
   },
   "outputs": [],
   "source": [
    "10.**np.array(np.arange(-20,1))"
   ]
  },
  {
   "cell_type": "markdown",
   "metadata": {
    "id": "N5p3jrQGiK16"
   },
   "source": [
    "What has happend? Why?\n",
    "\n",
    "## **IF POSSIBLE ADD THE NUMBERS WITH SMALLER ABSOLUTE VALUE FIRST**"
   ]
  },
  {
   "cell_type": "markdown",
   "metadata": {},
   "source": [
    "$\\qquad$"
   ]
  },
  {
   "cell_type": "markdown",
   "metadata": {},
   "source": [
    "Another source of errors is the **truncation error**.\n",
    "\n",
    "The term truncation error in the Taylor polynomial refers to the error involved in using a truncated, or finite, summation to approximate the sum of an infinite series.\n",
    "\n",
    "For example, a well known Taylor series: \n",
    "\n",
    "$$ e^{x}=\\sum _{n=0}^{\\infty }{\\frac {x^{n}}{n!}}=1+x+{\\frac {x^{2}}{2!}}+{\\frac {x^{3}}{3!}}+\\cdots $$\n",
    "\n",
    "When using a computer we can't use the whole series, and when we use the Taylor polynomial of order $n$ we are making an error.\n",
    "\n",
    "For a general $f(x)$ we have:\n",
    "\n",
    "$$P_n(x)=f(x_0) + f'(x_0)(x - x_0) + \\frac{f''(x_0)}{2!}(x − x_0)^2 +\\ldots+ \\frac{f ^{(n)}(x_0)}{n!}(x − x_0)^n$$\n",
    "\n",
    "But $P_n(x)\\neq f(x)$, there is an error \n",
    "\n",
    "$$R_n(x) = \\frac{f^{(n+1)}(ξ(x))}{(n + 1)!} (x − x_0)^{n+1}$$"
   ]
  },
  {
   "cell_type": "markdown",
   "metadata": {},
   "source": [
    "**Exercise:** Approximate $\\cos{(x)}$ by its Taylor polynomials of order 1,2,3,4,5. Plot the function and the approximations over the interval $[-\\pi,\\pi]$.\n",
    "\n",
    "* How is the error close to 0?\n",
    "* How is the error close to $\\pi$?\n"
   ]
  },
  {
   "cell_type": "code",
   "execution_count": null,
   "metadata": {},
   "outputs": [],
   "source": []
  },
  {
   "cell_type": "markdown",
   "metadata": {
    "id": "7MAu5THWf-Ot"
   },
   "source": [
    "\n",
    "## **More exercises:**\n",
    "1. Operations in IEEE-Arithmetic don't fulfill the associative properties of the product and the sum. Example:\n",
    "\n",
    "> $x = 1, \\quad y = 2^{(-53)}, \\quad z = 2^{(-53)}$\n",
    "\n",
    "> print(x+(y+z)==(x+y)+z)\n",
    "\n",
    " * Give an example where the product associative property is not fulfilled in the IEEE arithmetic and explain why.\n",
    " * Give an example where the distributive property does not hold.\n",
    "\n",
    "2. The function $f_1 (x,\\delta) = \\cos(x + \\delta) - \\cos(x)$  can be transformed into another form, $f_2 (x,\\delta)$, using the trigonometric identity:\n",
    "\n",
    "$$\\cos(\\phi)- cos(\\varphi) =-2 \\sin (\\frac{\\phi +\\varphi}{2} ) \\sin(\\frac{\\phi -\\varphi}{2})$$\n",
    "\n",
    "> Thus, $f_1$ and $f_2$ have the same values, in exact arithmetic, for any given argument values $x$ and $\\delta$.\n",
    "\n",
    "> Write a code that calculates $g_1(x,\\delta)=f_1(x,\\delta)/\\delta+\\sin(x)$ and $g_2(x,\\delta)= f_2(x,\\delta)/\\delta+\\sin(x)$ for $x=3$ and $\\delta = 1.0e-11$. Explain the difference in the results of the two calculations.\n",
    "\n",
    "3. The function $f_1(x_0,h)= \\sin(x_0 + h)-\\sin(x_0)$ can be transformed to another form, $f_2(x_0,h)$, using the trigonometric formula:\n",
    "\n",
    "$$ \\sin(\\phi)- \\sin(\\varphi) =2 \\cos(\\frac{\\phi +\\varphi}{2} ) \\sin(\\frac{\\phi -\\varphi}{2})$$\n",
    "\n",
    "> Thus, $f_1$ and $f_2$ have the same values, in exact arithmetic, for any pair of arguments $x$ and $h$.\n",
    "\n",
    "> Find a formula that avoids cancellation errors for computing the approximation  to the derivative $\\frac{f(x_0 + h)-f(x_0)}{h}$ of $f(x)= \\sin(x)$ at $x=x_0$. \n",
    "\n",
    "> Write a program that implements this formula and computes an approximation of $f'(.5)$, for $h=1e-20,\\cdots, 1$. For the same values of $h$, use the formula $\\frac{f(x_0 + h)-f(x_0)}{h}$ to approximate the derivative and compare results.\n",
    "\n",
    "\n",
    "4. Write a program that will:\n",
    "\n",
    "\n",
    "*   Sum up $\\frac{1}{n}$  for $n = 1,2,...,100000$. \n",
    "*   Round each number to four decimal digits, and then sum them up in five-digit decimal arithmetic for $n = 1,2,...,100000$.\n",
    "*   Sum up the same rounded numbers (in four-digit decimal arithmetic) in reverse order, i.e., for $n = 100000,...,2, 1$. \n",
    "\n",
    "> Compare the three results and explain your observations.\n",
    "\n",
    "5. In statistics, one often needs to compute the quantities $\\bar{x}=\\frac{1}{n}\\sum_{i=1}^n x_i$ (average) and $s^2 = \\frac{1}{n} \\sum_{i=1}^n (x_i-\\bar{x})^2$ (variance), where $x_1,x_2,...,x_n$, are the given data. It is easy to see that $s^2$ can also be written as $s^2=\\frac{1}{n}\\sum_{i=1}^{n} x_i^2-\\bar{x}^2$.\n",
    "\n",
    "* Which of the two methods to calculate $s^2$ requires fewer operations? Assume that $\\bar{x}$ has already been calculated when counting the operations.\n",
    "* Which of the two methods is expected to give more accurate results for $s^2$ in general?\n",
    "* Write a script to check whether your answer to the previous question was correct.\n"
   ]
  },
  {
   "cell_type": "markdown",
   "metadata": {},
   "source": [
    "# Solution"
   ]
  },
  {
   "cell_type": "code",
   "execution_count": 14,
   "metadata": {},
   "outputs": [],
   "source": [
    "import numpy as np\n",
    "import matplotlib.pyplot as plt\n",
    "from numpy import linalg as LA\n",
    "import math\n",
    "import time"
   ]
  },
  {
   "cell_type": "code",
   "execution_count": 15,
   "metadata": {},
   "outputs": [],
   "source": [
    "def to_base(base:int, number:int) -> str:\n",
    "    \"\"\" Changes an integer from decimal base to other base. \n",
    "\n",
    "    Args:\n",
    "        base (int): New base of the number to be converted.\n",
    "        number (int): Number to be converted to the new base.\n",
    "\n",
    "    Returns:\n",
    "        str: A string representation of the number in the new base.\n",
    "    \"\"\"\n",
    "\n",
    "    cociente = number // base\n",
    "    remainder = number % base\n",
    "    ans = str(remainder)\n",
    "\n",
    "    while (cociente >= base):\n",
    "\n",
    "        remainder = cociente % base\n",
    "        cociente //= base\n",
    "        ans = str(remainder) + ans\n",
    "\n",
    "    else: \n",
    "        return str(cociente%base) + ans"
   ]
  },
  {
   "cell_type": "code",
   "execution_count": 16,
   "metadata": {},
   "outputs": [
    {
     "name": "stdout",
     "output_type": "stream",
     "text": [
      "140\n"
     ]
    }
   ],
   "source": [
    "\n",
    "print(to_base(5, 45))"
   ]
  },
  {
   "cell_type": "code",
   "execution_count": 17,
   "metadata": {},
   "outputs": [
    {
     "name": "stdout",
     "output_type": "stream",
     "text": [
      "9\n",
      "0.9999999999999999\n"
     ]
    }
   ],
   "source": [
    "\n",
    "s = 0.0\n",
    "\n",
    "for i in range(1000):\n",
    "    s += 1.0/10.0\n",
    "    if round(s, 1) == 1.0: # Error 2 Literally compraing floats\n",
    "        break\n",
    "\n",
    "print(i) # Error 2 should be the variable s, not i\n",
    "print(s)"
   ]
  },
  {
   "cell_type": "code",
   "execution_count": 18,
   "metadata": {},
   "outputs": [
    {
     "name": "stdout",
     "output_type": "stream",
     "text": [
      "1.0\n"
     ]
    }
   ],
   "source": [
    "g = 1\n",
    "delta = (2**(-53))\n",
    "for j in range(1,2**(20)):\n",
    "    g = math.fsum([g, delta])\n",
    "\n",
    "print(g) # Error, g is being truncated"
   ]
  },
  {
   "cell_type": "code",
   "execution_count": 19,
   "metadata": {},
   "outputs": [],
   "source": [
    "def taylor_cos(x:float, iter:int)->float:\n",
    "\n",
    "    ans = 0\n",
    "\n",
    "    for n in range(iter):\n",
    "\n",
    "        coeff = (-1)**n \n",
    "        num = x**(2*n)\n",
    "        dnum = math.factorial(2*n)\n",
    "\n",
    "        ans +=  coeff*(num/dnum) \n",
    "    \n",
    "    return ans"
   ]
  },
  {
   "cell_type": "code",
   "execution_count": 20,
   "metadata": {},
   "outputs": [
    {
     "name": "stdout",
     "output_type": "stream",
     "text": [
      "0.7071068056832942\n"
     ]
    }
   ],
   "source": [
    "print(taylor_cos(math.radians(45), 5))"
   ]
  }
 ],
 "metadata": {
  "colab": {
   "authorship_tag": "ABX9TyOxOHPCp4/SCnwf0PdEqY8t",
   "name": "Practice_02.ipynb",
   "provenance": [],
   "toc_visible": true
  },
  "kernelspec": {
   "display_name": "Python 3",
   "language": "python",
   "name": "python3"
  },
  "language_info": {
   "codemirror_mode": {
    "name": "ipython",
    "version": 3
   },
   "file_extension": ".py",
   "mimetype": "text/x-python",
   "name": "python",
   "nbconvert_exporter": "python",
   "pygments_lexer": "ipython3",
   "version": "3.8.10"
  }
 },
 "nbformat": 4,
 "nbformat_minor": 1
}
