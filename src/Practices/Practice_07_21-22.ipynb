{
 "cells": [
  {
   "cell_type": "markdown",
   "metadata": {},
   "source": [
    "# **Practice 7**"
   ]
  },
  {
   "cell_type": "markdown",
   "metadata": {
    "id": "ow9RvFj3Uxpx"
   },
   "source": [
    "1. In this practice we are going to program and use an explicit and an implicit method to solve an ODE.\n",
    "\n",
    "+ Based on explicit Euler's method provided in the class' notebook program Heun's method.\n",
    "\n",
    "+ Based on that same code and the Newton's method that you coded in practice 3, program the implicit Euler's method.\n",
    "\n",
    "+ Solve the initial value \n",
    "$$y'=-\\frac{3t^2y+y^2}{2t^3+3ty}$$\n",
    "$$ y(1)=-2$$\n",
    "on the interval $[1,2]$. Use step sizes $h = 0.0001, 0.001, 0.01, 0.1$. \n",
    "\n",
    "+ Use the implicit solution $t^3y^2+ty^3+4=0$ to check your results.\n",
    "\n",
    "**Note:** Try to write functions that you could use for other problems with small changes, if any."
   ]
  },
  {
   "cell_type": "markdown",
   "metadata": {},
   "source": [
    "# Solution"
   ]
  },
  {
   "cell_type": "markdown",
   "metadata": {},
   "source": [
    "### Imports"
   ]
  },
  {
   "cell_type": "code",
   "execution_count": null,
   "metadata": {},
   "outputs": [],
   "source": [
    "import sys\n",
    "from typing import Callable\n",
    "\n",
    "import numpy as np"
   ]
  },
  {
   "cell_type": "markdown",
   "metadata": {},
   "source": [
    "## Exercise 1"
   ]
  },
  {
   "cell_type": "code",
   "execution_count": null,
   "metadata": {},
   "outputs": [],
   "source": [
    "def euler_explicit(f: 'Callable[float, float]', y0: float, t0: float, t: float, h: float) -> np.ndarray:\n",
    "    r\"\"\"Computes the explicit (forward) Euler method to solve ODEs.\n",
    "\n",
    "    Args:\n",
    "        f (Callable[float, float]): Function depending on y and t in that order.\n",
    "            Equivalent to f(y,t).\n",
    "        y0 (float): Initial value of the answer.\n",
    "            Equivalent to y(t0).\n",
    "        t0 (float): Initial time.\n",
    "        t (float): Final time.\n",
    "        h (float): Separation between the points of the interval.\n",
    "\n",
    "    Returns:\n",
    "        np.ndarray: Numerical solution of the ODE in the interval [t0, t0+h, ..., t-h, t].\n",
    "    \"\"\"\n",
    "    t_ = np.arange(t0, t+h, h)\n",
    "    N = len(t_)\n",
    "\n",
    "    u = np.zeros_like(t_)\n",
    "    u[0] = y0\n",
    "\n",
    "    for i in range(N-1):\n",
    "        u[i+1] = u[i] + h * f(u[i], t_[i])\n",
    "\n",
    "    return u"
   ]
  },
  {
   "cell_type": "code",
   "execution_count": 1,
   "metadata": {},
   "outputs": [
    {
     "ename": "ModuleNotFoundError",
     "evalue": "No module named 'practice03'",
     "output_type": "error",
     "traceback": [
      "\u001b[0;31m---------------------------------------------------------------------------\u001b[0m",
      "\u001b[0;31mModuleNotFoundError\u001b[0m                       Traceback (most recent call last)",
      "\u001b[1;32m/home/luisgmm/Documents/GitHub/UC3M-NUMERICAL-METHODS-Practices/Practice_07_21-22.ipynb Cell 4'\u001b[0m in \u001b[0;36m<cell line: 5>\u001b[0;34m()\u001b[0m\n\u001b[1;32m      <a href='vscode-notebook-cell:/home/luisgmm/Documents/GitHub/UC3M-NUMERICAL-METHODS-Practices/Practice_07_21-22.ipynb#ch0000003?line=0'>1</a>\u001b[0m \u001b[39mimport\u001b[39;00m \u001b[39mnumpy\u001b[39;00m \u001b[39mas\u001b[39;00m \u001b[39mnp\u001b[39;00m\n\u001b[1;32m      <a href='vscode-notebook-cell:/home/luisgmm/Documents/GitHub/UC3M-NUMERICAL-METHODS-Practices/Practice_07_21-22.ipynb#ch0000003?line=1'>2</a>\u001b[0m \u001b[39mimport\u001b[39;00m \u001b[39msys\u001b[39;00m\n\u001b[0;32m----> <a href='vscode-notebook-cell:/home/luisgmm/Documents/GitHub/UC3M-NUMERICAL-METHODS-Practices/Practice_07_21-22.ipynb#ch0000003?line=4'>5</a>\u001b[0m \u001b[39mfrom\u001b[39;00m \u001b[39mpractice03\u001b[39;00m \u001b[39mimport\u001b[39;00m dev, newton\n\u001b[1;32m      <a href='vscode-notebook-cell:/home/luisgmm/Documents/GitHub/UC3M-NUMERICAL-METHODS-Practices/Practice_07_21-22.ipynb#ch0000003?line=8'>9</a>\u001b[0m \u001b[39mclass\u001b[39;00m \u001b[39mNoRootException\u001b[39;00m(\u001b[39mException\u001b[39;00m):\n\u001b[1;32m     <a href='vscode-notebook-cell:/home/luisgmm/Documents/GitHub/UC3M-NUMERICAL-METHODS-Practices/Practice_07_21-22.ipynb#ch0000003?line=9'>10</a>\u001b[0m     \u001b[39mpass\u001b[39;00m\n",
      "\u001b[0;31mModuleNotFoundError\u001b[0m: No module named 'practice03'"
     ]
    }
   ],
   "source": [
    "\n",
    "\n",
    "if __name__ == '__main__':\n",
    "    \n",
    "    f_t_y = \"- (3* t**2 * y + y**2) / (2* t**3 + 3* t*y)\"\n",
    "    h_vec = [0.0001, 0.001, 0.01, 0.1]\n",
    "\n",
    "    for hi in h_vec:\n",
    "\n",
    "        # print(f\"Euler explicit wit h={hi} yields {euler_explicit(f_t_y, -2, 1, 2, hi)}\")\n",
    "        print(f\"Euler implicit wit h={hi} yields {euler_implicit(f_t_y, -2, 1, 2, hi)}\")    \n",
    "        \n",
    "    "
   ]
  }
 ],
 "metadata": {
  "colab": {
   "authorship_tag": "ABX9TyN6ra7VTQOxVFNnGFG6EDda",
   "name": "Practice_07.ipynb",
   "provenance": []
  },
  "kernelspec": {
   "display_name": "Python 3",
   "language": "python",
   "name": "python3"
  },
  "language_info": {
   "codemirror_mode": {
    "name": "ipython",
    "version": 3
   },
   "file_extension": ".py",
   "mimetype": "text/x-python",
   "name": "python",
   "nbconvert_exporter": "python",
   "pygments_lexer": "ipython3",
   "version": "3.8.10"
  }
 },
 "nbformat": 4,
 "nbformat_minor": 1
}
