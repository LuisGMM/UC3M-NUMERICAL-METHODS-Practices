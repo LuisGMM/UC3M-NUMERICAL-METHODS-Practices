{
 "cells": [
  {
   "cell_type": "markdown",
   "metadata": {},
   "source": [
    "# **Practice 7**"
   ]
  },
  {
   "cell_type": "markdown",
   "metadata": {
    "id": "ow9RvFj3Uxpx"
   },
   "source": [
    "1. In this practice we are going to program and use an explicit and an implicit method to solve an ODE.\n",
    "\n",
    "+ Based on explicit Euler's method provided in the class' notebook program Heun's method.\n",
    "\n",
    "+ Based on that same code and the Newton's method that you coded in practice 3, program the implicit Euler's method.\n",
    "\n",
    "+ Solve the initial value \n",
    "$$y'=-\\frac{3t^2y+y^2}{2t^3+3ty}$$\n",
    "$$ y(1)=-2$$\n",
    "on the interval $[1,2]$. Use step sizes $h = 0.0001, 0.001, 0.01, 0.1$. \n",
    "\n",
    "+ Use the implicit solution $t^3y^2+ty^3+4=0$ to check your results.\n",
    "\n",
    "**Note:** Try to write functions that you could use for other problems with small changes, if any."
   ]
  },
  {
   "cell_type": "markdown",
   "metadata": {},
   "source": [
    "# Solution"
   ]
  },
  {
   "cell_type": "markdown",
   "metadata": {},
   "source": [
    "### Imports"
   ]
  },
  {
   "cell_type": "code",
   "execution_count": 1,
   "metadata": {},
   "outputs": [],
   "source": [
    "import inspect\n",
    "import sys\n",
    "from typing import Callable\n",
    "\n",
    "import numpy as np\n",
    "import scipy as sci"
   ]
  },
  {
   "cell_type": "markdown",
   "metadata": {},
   "source": [
    "### Newton's method"
   ]
  },
  {
   "cell_type": "code",
   "execution_count": 2,
   "metadata": {},
   "outputs": [],
   "source": [
    "def forward(order: int, f: 'Callable', x: float, h: float, exact: bool = False) -> float:\n",
    "    \"\"\"Use forward finite difference formula of order `order` to compute the derivative of `f` at `x`.\n",
    "\n",
    "    Args:\n",
    "        order (int): Order of the derivate. (first, second ...).\n",
    "        f (Callable): Function for which the derivative will be computed.\n",
    "            Only one argument will be passed to it, `x`.\n",
    "        x (float): Point at which the derivative will be computed.\n",
    "        h (float): Error of the approximation # TODO: Is it the error?\n",
    "        exact (bool, optional): Set the precision of the method.\n",
    "            If False, floating comma numbers are used. Set to True to use long numbers. Defaults to False.\n",
    "\n",
    "    Note:\n",
    "        See more of `exact` parameter in https://docs.scipy.org/doc/scipy/reference/generated/scipy.special.comb.html\n",
    "\n",
    "    Returns:\n",
    "        float: Derivative of order `order` of `f` evaluated at `x`.\n",
    "    \"\"\"\n",
    "    return sum([(-1)**(order-k) * sci.comb(order, k, exact) * f(x + k*h) for k in range(order+1)]) / h**order\n",
    "\n",
    "\n",
    "def newton(err: float = 1e-4, f: 'Callable[float]' = None, f_dev: 'Callable[float]' = None, \n",
    "           differentiator: 'Callable[int, Callable, float, float, bool]' = None, *,\n",
    "           x0: float = 0, h_err: float = 1e-4) -> float:\n",
    "    r\"\"\"Newton's method to find roots of a function.\n",
    "\n",
    "    Args:\n",
    "        err (float): Desired error of the method.\n",
    "        f (Callable[float], optional): Analytical function to find its roots. Its input is the point to be evaluated in. Defaults to None.\n",
    "        f_dev (Callable[float], optional): Analytical derivative of the function. Its input is the point to be evaluated in. Defaults to None.\n",
    "        x0 (float, optional): Initial guess of the root.\n",
    "            Note that an inadequate first guess could lead to undesired outputs such as no roots or undesired roots.\n",
    "            Defaults to 0.\n",
    "        \n",
    "    Returns:\n",
    "        float|None: Root of the function or None if the algorithm reaches its recursion limit.\n",
    "    \"\"\"\n",
    "    iter, iter_dict = 0, {0: x0} # Not necessary to store all the values, but anyway\n",
    "    limit = sys.getrecursionlimit()\n",
    "\n",
    "    while True:\n",
    "        if iter + 10 >= limit:\n",
    "            print(f'Iteration limit ({limit}) reached without finding any root. Try with other initial guess or changing the recursion limit. \\\n",
    "                    Maybe there are no roots.')\n",
    "            return\n",
    "\n",
    "        iter_dict[iter+1] = iter_dict[iter] - f(iter_dict[iter]) / differentiator(1, f, iter_dict[iter], h_err, True)\n",
    "\n",
    "        if abs(iter_dict[iter+1] - iter_dict[iter]) < err:\n",
    "            return iter_dict[iter+1]\n",
    "\n",
    "        iter += 1"
   ]
  },
  {
   "cell_type": "markdown",
   "metadata": {},
   "source": [
    "## Exercise 1"
   ]
  },
  {
   "cell_type": "code",
   "execution_count": 3,
   "metadata": {},
   "outputs": [],
   "source": [
    "def euler_explicit(f: 'Callable[float, float]', y0: float, t0: float, t: float, h: float) -> np.ndarray:\n",
    "    r\"\"\"Computes the explicit (forward) Euler method to solve ODEs.\n",
    "\n",
    "    Args:\n",
    "        f (Callable[float, float]): Function depending on y and t in that order.\n",
    "            Equivalent to f(y,t).\n",
    "        y0 (float): Initial value of the answer.\n",
    "            Equivalent to y(t0).\n",
    "        t0 (float): Initial time.\n",
    "        t (float): Final time.\n",
    "        h (float): Separation between the points of the interval.\n",
    "\n",
    "    Returns:\n",
    "        np.ndarray: Numerical solution of the ODE in the interval [t0, t0+h, ..., t-h, t].\n",
    "    \"\"\"\n",
    "    t_ = np.arange(t0, t+h, h)\n",
    "    N = len(t_)\n",
    "\n",
    "    u = np.zeros_like(t_)\n",
    "    u[0] = y0\n",
    "\n",
    "    for i in range(N-1):\n",
    "        u[i+1] = u[i] + h * f(u[i], t_[i])\n",
    "\n",
    "    return u\n",
    "\n",
    "\n",
    "def heun(f: 'Callable[float, float]', y0: float, t0: float, t: float, h: float) -> np.ndarray:\n",
    "    \"\"\"Computes Heun's method to solve ODEs.\n",
    "\n",
    "    Args:\n",
    "        f (Callable[float, float]): Function depending on y and t in that order.\n",
    "            Equivalent to f(y,t).\n",
    "        y0 (float): Initial value of the answer.\n",
    "            Equivalent to y(t0).\n",
    "        t0 (float): Initial time.\n",
    "        t (float): Final time.\n",
    "        h (float): Separation between the points of the interval.\n",
    "\n",
    "    Returns:\n",
    "        np.ndarray: Numerical solution of the ODE in the interval [t0, t0+h, t-h, t].\n",
    "    \"\"\"\n",
    "    t_ = np.arange(t0, t+h, h)\n",
    "    N = len(t_)\n",
    "\n",
    "    u = np.zeros_like(t_)\n",
    "    u[0] = y0\n",
    "\n",
    "    for i in range(N-1):\n",
    "        u[i+1] = u[i] + h/2 * (f(u[i]+h*f(u[i], t_[i]), t_[i+1]) + f(u[i], t_[i]))\n",
    "\n",
    "    return u\n",
    "\n",
    "\n",
    "def euler_implicit(f: 'Callable[float, float]', y0: float, t0: float, t: float, h: float, *args, **kwargs) -> np.ndarray:\n",
    "    \"\"\"Computes the implicit (backward) Euler method to solve ODEs.\n",
    "\n",
    "    If `f` argument has an explicit dependence on y, Newton\\' method is used to compute the next iteration the algorithm.\n",
    "    Then, `err` must be passed as extra argument, and it is recommended to pass the analytical derivative of `f` as f_dev.\n",
    "    In case this last `f_dev` is not passed, Newton\\' method will use finite differences to numerically obtain it.\n",
    "\n",
    "    See more about Newton\\' method in module roots.\n",
    "\n",
    "    Args:\n",
    "        f (Callable[float, float]): Function depending on y and t in that order.\n",
    "            Equivalent to f(y,t).\n",
    "        y0 (float): Initial value of the answer.\n",
    "            Equivalent to y(t0).\n",
    "        t0 (float): Initial time.\n",
    "        t (float): Final time.\n",
    "        h (float): Separation between the points of the interval.\n",
    "\n",
    "    Returns:\n",
    "        np.ndarray: Numerical solution of the ODE in the interval [t0, t0+h, ..., t-h, t].\n",
    "    \"\"\"\n",
    "    t_ = np.arange(t0, t+h, h)\n",
    "    N = len(t_)\n",
    "\n",
    "    u = np.zeros_like(t_)\n",
    "    u[0] = y0\n",
    "\n",
    "    for i in range(N-1):\n",
    "        def g(y): return u[i] - u[i+1] + h*f(y, t_[i+1])\n",
    "        u[i+1] = newton(f=g, differentiator=forward, x0=u[i], *args, **kwargs)\n",
    "\n",
    "    return u"
   ]
  },
  {
   "cell_type": "code",
   "execution_count": 5,
   "metadata": {},
   "outputs": [
    {
     "ename": "TypeError",
     "evalue": "module, class, method, function, traceback, frame, or code object was expected, got str",
     "output_type": "error",
     "traceback": [
      "\u001b[0;31m---------------------------------------------------------------------------\u001b[0m",
      "\u001b[0;31mTypeError\u001b[0m                                 Traceback (most recent call last)",
      "\u001b[1;32m/home/luisgmm/Documents/GitHub/UC3M-NUMERICAL-METHODS-Practices/src/Practices/Practice_07_21-22.ipynb Cell 10'\u001b[0m in \u001b[0;36m<cell line: 4>\u001b[0;34m()\u001b[0m\n\u001b[1;32m      <a href='vscode-notebook-cell:/home/luisgmm/Documents/GitHub/UC3M-NUMERICAL-METHODS-Practices/src/Practices/Practice_07_21-22.ipynb#ch0000003?line=1'>2</a>\u001b[0m h_vec \u001b[39m=\u001b[39m [\u001b[39m0.0001\u001b[39m, \u001b[39m0.001\u001b[39m, \u001b[39m0.01\u001b[39m, \u001b[39m0.1\u001b[39m]\n\u001b[1;32m      <a href='vscode-notebook-cell:/home/luisgmm/Documents/GitHub/UC3M-NUMERICAL-METHODS-Practices/src/Practices/Practice_07_21-22.ipynb#ch0000003?line=3'>4</a>\u001b[0m \u001b[39mfor\u001b[39;00m hi \u001b[39min\u001b[39;00m h_vec:\n\u001b[1;32m      <a href='vscode-notebook-cell:/home/luisgmm/Documents/GitHub/UC3M-NUMERICAL-METHODS-Practices/src/Practices/Practice_07_21-22.ipynb#ch0000003?line=4'>5</a>\u001b[0m \n\u001b[1;32m      <a href='vscode-notebook-cell:/home/luisgmm/Documents/GitHub/UC3M-NUMERICAL-METHODS-Practices/src/Practices/Practice_07_21-22.ipynb#ch0000003?line=5'>6</a>\u001b[0m     \u001b[39m# print(f\"Euler explicit wit h={hi} yields {euler_explicit(f_t_y, -2, 1, 2, hi)}\")\u001b[39;00m\n\u001b[0;32m----> <a href='vscode-notebook-cell:/home/luisgmm/Documents/GitHub/UC3M-NUMERICAL-METHODS-Practices/src/Practices/Practice_07_21-22.ipynb#ch0000003?line=6'>7</a>\u001b[0m     \u001b[39mprint\u001b[39m(\u001b[39mf\u001b[39m\u001b[39m\"\u001b[39m\u001b[39mEuler implicit wit h=\u001b[39m\u001b[39m{\u001b[39;00mhi\u001b[39m}\u001b[39;00m\u001b[39m yields \u001b[39m\u001b[39m{\u001b[39;00meuler_implicit(f_t_y, \u001b[39m-\u001b[39m\u001b[39m2\u001b[39m, \u001b[39m1\u001b[39m, \u001b[39m2\u001b[39m, hi)\u001b[39m}\u001b[39;00m\u001b[39m\"\u001b[39m)\n",
      "\u001b[1;32m/home/luisgmm/Documents/GitHub/UC3M-NUMERICAL-METHODS-Practices/src/Practices/Practice_07_21-22.ipynb Cell 9'\u001b[0m in \u001b[0;36meuler_implicit\u001b[0;34m(f, y0, t0, t, h, *args, **kwargs)\u001b[0m\n\u001b[1;32m     <a href='vscode-notebook-cell:/home/luisgmm/Documents/GitHub/UC3M-NUMERICAL-METHODS-Practices/src/Practices/Practice_07_21-22.ipynb#ch0000007?line=55'>56</a>\u001b[0m \u001b[39m\"\"\"Computes the implicit (backward) Euler method to solve ODEs.\u001b[39;00m\n\u001b[1;32m     <a href='vscode-notebook-cell:/home/luisgmm/Documents/GitHub/UC3M-NUMERICAL-METHODS-Practices/src/Practices/Practice_07_21-22.ipynb#ch0000007?line=56'>57</a>\u001b[0m \n\u001b[1;32m     <a href='vscode-notebook-cell:/home/luisgmm/Documents/GitHub/UC3M-NUMERICAL-METHODS-Practices/src/Practices/Practice_07_21-22.ipynb#ch0000007?line=57'>58</a>\u001b[0m \u001b[39mIf `f` argument has an explicit dependence on y, Newton\\' method is used to compute the next iteration the algorithm.\u001b[39;00m\n\u001b[0;32m   (...)\u001b[0m\n\u001b[1;32m     <a href='vscode-notebook-cell:/home/luisgmm/Documents/GitHub/UC3M-NUMERICAL-METHODS-Practices/src/Practices/Practice_07_21-22.ipynb#ch0000007?line=73'>74</a>\u001b[0m \u001b[39m    np.ndarray: Numerical solution of the ODE in the interval [t0, t0+h, ..., t-h, t].\u001b[39;00m\n\u001b[1;32m     <a href='vscode-notebook-cell:/home/luisgmm/Documents/GitHub/UC3M-NUMERICAL-METHODS-Practices/src/Practices/Practice_07_21-22.ipynb#ch0000007?line=74'>75</a>\u001b[0m \u001b[39m\"\"\"\u001b[39;00m\n\u001b[1;32m     <a href='vscode-notebook-cell:/home/luisgmm/Documents/GitHub/UC3M-NUMERICAL-METHODS-Practices/src/Practices/Practice_07_21-22.ipynb#ch0000007?line=75'>76</a>\u001b[0m \u001b[39m# ------ This part checks if the ode depends on y (to use newton) or only on t ----\u001b[39;00m\n\u001b[0;32m---> <a href='vscode-notebook-cell:/home/luisgmm/Documents/GitHub/UC3M-NUMERICAL-METHODS-Practices/src/Practices/Practice_07_21-22.ipynb#ch0000007?line=77'>78</a>\u001b[0m returns_of_f \u001b[39m=\u001b[39m inspect\u001b[39m.\u001b[39;49mgetsource(f)\u001b[39m.\u001b[39msplit(\u001b[39m'\u001b[39m\u001b[39mreturn\u001b[39m\u001b[39m'\u001b[39m)\n\u001b[1;32m     <a href='vscode-notebook-cell:/home/luisgmm/Documents/GitHub/UC3M-NUMERICAL-METHODS-Practices/src/Practices/Practice_07_21-22.ipynb#ch0000007?line=78'>79</a>\u001b[0m lambdas_of_f \u001b[39m=\u001b[39m inspect\u001b[39m.\u001b[39mgetsource(f)\u001b[39m.\u001b[39msplit(\u001b[39m'\u001b[39m\u001b[39mlambda\u001b[39m\u001b[39m'\u001b[39m)\n\u001b[1;32m     <a href='vscode-notebook-cell:/home/luisgmm/Documents/GitHub/UC3M-NUMERICAL-METHODS-Practices/src/Practices/Practice_07_21-22.ipynb#ch0000007?line=80'>81</a>\u001b[0m n_returns_of_f \u001b[39m=\u001b[39m \u001b[39mlen\u001b[39m(returns_of_f)\n",
      "File \u001b[0;32m/usr/lib/python3.8/inspect.py:997\u001b[0m, in \u001b[0;36mgetsource\u001b[0;34m(object)\u001b[0m\n\u001b[1;32m    <a href='file:///usr/lib/python3.8/inspect.py?line=990'>991</a>\u001b[0m \u001b[39mdef\u001b[39;00m \u001b[39mgetsource\u001b[39m(\u001b[39mobject\u001b[39m):\n\u001b[1;32m    <a href='file:///usr/lib/python3.8/inspect.py?line=991'>992</a>\u001b[0m     \u001b[39m\"\"\"Return the text of the source code for an object.\u001b[39;00m\n\u001b[1;32m    <a href='file:///usr/lib/python3.8/inspect.py?line=992'>993</a>\u001b[0m \n\u001b[1;32m    <a href='file:///usr/lib/python3.8/inspect.py?line=993'>994</a>\u001b[0m \u001b[39m    The argument may be a module, class, method, function, traceback, frame,\u001b[39;00m\n\u001b[1;32m    <a href='file:///usr/lib/python3.8/inspect.py?line=994'>995</a>\u001b[0m \u001b[39m    or code object.  The source code is returned as a single string.  An\u001b[39;00m\n\u001b[1;32m    <a href='file:///usr/lib/python3.8/inspect.py?line=995'>996</a>\u001b[0m \u001b[39m    OSError is raised if the source code cannot be retrieved.\"\"\"\u001b[39;00m\n\u001b[0;32m--> <a href='file:///usr/lib/python3.8/inspect.py?line=996'>997</a>\u001b[0m     lines, lnum \u001b[39m=\u001b[39m getsourcelines(\u001b[39mobject\u001b[39;49m)\n\u001b[1;32m    <a href='file:///usr/lib/python3.8/inspect.py?line=997'>998</a>\u001b[0m     \u001b[39mreturn\u001b[39;00m \u001b[39m'\u001b[39m\u001b[39m'\u001b[39m\u001b[39m.\u001b[39mjoin(lines)\n",
      "File \u001b[0;32m/usr/lib/python3.8/inspect.py:979\u001b[0m, in \u001b[0;36mgetsourcelines\u001b[0;34m(object)\u001b[0m\n\u001b[1;32m    <a href='file:///usr/lib/python3.8/inspect.py?line=970'>971</a>\u001b[0m \u001b[39m\"\"\"Return a list of source lines and starting line number for an object.\u001b[39;00m\n\u001b[1;32m    <a href='file:///usr/lib/python3.8/inspect.py?line=971'>972</a>\u001b[0m \n\u001b[1;32m    <a href='file:///usr/lib/python3.8/inspect.py?line=972'>973</a>\u001b[0m \u001b[39mThe argument may be a module, class, method, function, traceback, frame,\u001b[39;00m\n\u001b[0;32m   (...)\u001b[0m\n\u001b[1;32m    <a href='file:///usr/lib/python3.8/inspect.py?line=975'>976</a>\u001b[0m \u001b[39moriginal source file the first line of code was found.  An OSError is\u001b[39;00m\n\u001b[1;32m    <a href='file:///usr/lib/python3.8/inspect.py?line=976'>977</a>\u001b[0m \u001b[39mraised if the source code cannot be retrieved.\"\"\"\u001b[39;00m\n\u001b[1;32m    <a href='file:///usr/lib/python3.8/inspect.py?line=977'>978</a>\u001b[0m \u001b[39mobject\u001b[39m \u001b[39m=\u001b[39m unwrap(\u001b[39mobject\u001b[39m)\n\u001b[0;32m--> <a href='file:///usr/lib/python3.8/inspect.py?line=978'>979</a>\u001b[0m lines, lnum \u001b[39m=\u001b[39m findsource(\u001b[39mobject\u001b[39;49m)\n\u001b[1;32m    <a href='file:///usr/lib/python3.8/inspect.py?line=980'>981</a>\u001b[0m \u001b[39mif\u001b[39;00m istraceback(\u001b[39mobject\u001b[39m):\n\u001b[1;32m    <a href='file:///usr/lib/python3.8/inspect.py?line=981'>982</a>\u001b[0m     \u001b[39mobject\u001b[39m \u001b[39m=\u001b[39m \u001b[39mobject\u001b[39m\u001b[39m.\u001b[39mtb_frame\n",
      "File \u001b[0;32m/usr/lib/python3.8/inspect.py:780\u001b[0m, in \u001b[0;36mfindsource\u001b[0;34m(object)\u001b[0m\n\u001b[1;32m    <a href='file:///usr/lib/python3.8/inspect.py?line=771'>772</a>\u001b[0m \u001b[39mdef\u001b[39;00m \u001b[39mfindsource\u001b[39m(\u001b[39mobject\u001b[39m):\n\u001b[1;32m    <a href='file:///usr/lib/python3.8/inspect.py?line=772'>773</a>\u001b[0m     \u001b[39m\"\"\"Return the entire source file and starting line number for an object.\u001b[39;00m\n\u001b[1;32m    <a href='file:///usr/lib/python3.8/inspect.py?line=773'>774</a>\u001b[0m \n\u001b[1;32m    <a href='file:///usr/lib/python3.8/inspect.py?line=774'>775</a>\u001b[0m \u001b[39m    The argument may be a module, class, method, function, traceback, frame,\u001b[39;00m\n\u001b[1;32m    <a href='file:///usr/lib/python3.8/inspect.py?line=775'>776</a>\u001b[0m \u001b[39m    or code object.  The source code is returned as a list of all the lines\u001b[39;00m\n\u001b[1;32m    <a href='file:///usr/lib/python3.8/inspect.py?line=776'>777</a>\u001b[0m \u001b[39m    in the file and the line number indexes a line in that list.  An OSError\u001b[39;00m\n\u001b[1;32m    <a href='file:///usr/lib/python3.8/inspect.py?line=777'>778</a>\u001b[0m \u001b[39m    is raised if the source code cannot be retrieved.\"\"\"\u001b[39;00m\n\u001b[0;32m--> <a href='file:///usr/lib/python3.8/inspect.py?line=779'>780</a>\u001b[0m     file \u001b[39m=\u001b[39m getsourcefile(\u001b[39mobject\u001b[39;49m)\n\u001b[1;32m    <a href='file:///usr/lib/python3.8/inspect.py?line=780'>781</a>\u001b[0m     \u001b[39mif\u001b[39;00m file:\n\u001b[1;32m    <a href='file:///usr/lib/python3.8/inspect.py?line=781'>782</a>\u001b[0m         \u001b[39m# Invalidate cache if needed.\u001b[39;00m\n\u001b[1;32m    <a href='file:///usr/lib/python3.8/inspect.py?line=782'>783</a>\u001b[0m         linecache\u001b[39m.\u001b[39mcheckcache(file)\n",
      "File \u001b[0;32m/usr/lib/python3.8/inspect.py:696\u001b[0m, in \u001b[0;36mgetsourcefile\u001b[0;34m(object)\u001b[0m\n\u001b[1;32m    <a href='file:///usr/lib/python3.8/inspect.py?line=691'>692</a>\u001b[0m \u001b[39mdef\u001b[39;00m \u001b[39mgetsourcefile\u001b[39m(\u001b[39mobject\u001b[39m):\n\u001b[1;32m    <a href='file:///usr/lib/python3.8/inspect.py?line=692'>693</a>\u001b[0m     \u001b[39m\"\"\"Return the filename that can be used to locate an object's source.\u001b[39;00m\n\u001b[1;32m    <a href='file:///usr/lib/python3.8/inspect.py?line=693'>694</a>\u001b[0m \u001b[39m    Return None if no way can be identified to get the source.\u001b[39;00m\n\u001b[1;32m    <a href='file:///usr/lib/python3.8/inspect.py?line=694'>695</a>\u001b[0m \u001b[39m    \"\"\"\u001b[39;00m\n\u001b[0;32m--> <a href='file:///usr/lib/python3.8/inspect.py?line=695'>696</a>\u001b[0m     filename \u001b[39m=\u001b[39m getfile(\u001b[39mobject\u001b[39;49m)\n\u001b[1;32m    <a href='file:///usr/lib/python3.8/inspect.py?line=696'>697</a>\u001b[0m     all_bytecode_suffixes \u001b[39m=\u001b[39m importlib\u001b[39m.\u001b[39mmachinery\u001b[39m.\u001b[39mDEBUG_BYTECODE_SUFFIXES[:]\n\u001b[1;32m    <a href='file:///usr/lib/python3.8/inspect.py?line=697'>698</a>\u001b[0m     all_bytecode_suffixes \u001b[39m+\u001b[39m\u001b[39m=\u001b[39m importlib\u001b[39m.\u001b[39mmachinery\u001b[39m.\u001b[39mOPTIMIZED_BYTECODE_SUFFIXES[:]\n",
      "File \u001b[0;32m/usr/lib/python3.8/inspect.py:676\u001b[0m, in \u001b[0;36mgetfile\u001b[0;34m(object)\u001b[0m\n\u001b[1;32m    <a href='file:///usr/lib/python3.8/inspect.py?line=673'>674</a>\u001b[0m \u001b[39mif\u001b[39;00m iscode(\u001b[39mobject\u001b[39m):\n\u001b[1;32m    <a href='file:///usr/lib/python3.8/inspect.py?line=674'>675</a>\u001b[0m     \u001b[39mreturn\u001b[39;00m \u001b[39mobject\u001b[39m\u001b[39m.\u001b[39mco_filename\n\u001b[0;32m--> <a href='file:///usr/lib/python3.8/inspect.py?line=675'>676</a>\u001b[0m \u001b[39mraise\u001b[39;00m \u001b[39mTypeError\u001b[39;00m(\u001b[39m'\u001b[39m\u001b[39mmodule, class, method, function, traceback, frame, or \u001b[39m\u001b[39m'\u001b[39m\n\u001b[1;32m    <a href='file:///usr/lib/python3.8/inspect.py?line=676'>677</a>\u001b[0m                 \u001b[39m'\u001b[39m\u001b[39mcode object was expected, got \u001b[39m\u001b[39m{}\u001b[39;00m\u001b[39m'\u001b[39m\u001b[39m.\u001b[39mformat(\n\u001b[1;32m    <a href='file:///usr/lib/python3.8/inspect.py?line=677'>678</a>\u001b[0m                 \u001b[39mtype\u001b[39m(\u001b[39mobject\u001b[39m)\u001b[39m.\u001b[39m\u001b[39m__name__\u001b[39m))\n",
      "\u001b[0;31mTypeError\u001b[0m: module, class, method, function, traceback, frame, or code object was expected, got str"
     ]
    }
   ],
   "source": [
    "f_t_y = \"- (3* t**2 * y + y**2) / (2* t**3 + 3* t*y)\"\n",
    "h_vec = [0.0001, 0.001, 0.01, 0.1]\n",
    "\n",
    "for hi in h_vec:\n",
    "\n",
    "    # print(f\"Euler explicit wit h={hi} yields {euler_explicit(f_t_y, -2, 1, 2, hi)}\")\n",
    "    print(f\"Euler implicit wit h={hi} yields {euler_implicit(f_t_y, -2, 1, 2, hi)}\")        \n",
    "    "
   ]
  }
 ],
 "metadata": {
  "colab": {
   "authorship_tag": "ABX9TyN6ra7VTQOxVFNnGFG6EDda",
   "name": "Practice_07.ipynb",
   "provenance": []
  },
  "kernelspec": {
   "display_name": "Python 3",
   "language": "python",
   "name": "python3"
  },
  "language_info": {
   "codemirror_mode": {
    "name": "ipython",
    "version": 3
   },
   "file_extension": ".py",
   "mimetype": "text/x-python",
   "name": "python",
   "nbconvert_exporter": "python",
   "pygments_lexer": "ipython3",
   "version": "3.8.10"
  }
 },
 "nbformat": 4,
 "nbformat_minor": 1
}
