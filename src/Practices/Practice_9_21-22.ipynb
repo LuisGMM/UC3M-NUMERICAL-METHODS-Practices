{
 "cells": [
  {
   "cell_type": "markdown",
   "metadata": {},
   "source": [
    "# **Practice 9**"
   ]
  },
  {
   "cell_type": "markdown",
   "metadata": {
    "slideshow": {
     "slide_type": "subslide"
    }
   },
   "source": [
    "## Boundary value problems"
   ]
  },
  {
   "cell_type": "markdown",
   "metadata": {},
   "source": [
    "1. We are going to consider the following ODE system:\n",
    "\n",
    "$$ \\begin{array}{l}\n",
    "y''(t) = -g \\\\\n",
    "x''(t)  =  0\n",
    "\\end{array} $$\n",
    "\n",
    "where $g$ is the gravity. Maybe some of you have recognized this ODE as the one modelling the trajectory of an object that we throw (for example, with a cannon) not considering the friction with air.\n",
    "\n",
    "If the cannon is placed at $(x,y)=(0,10)$ and we want to hit an object that is placed at $(x,y)=(100,0)$, calculate the initial velocity $y'(0)$ if $x'(0)=3$.\n",
    "\n",
    "* You have to think about a procedure to solve this problem for a general position of the object.\n",
    "* You will have to solve the ODE several times. Use any multistep method (with more than 2 steps).\n",
    "\n",
    "<br>\n",
    "\n",
    "<br>\n",
    "\n",
    "2. Solve the following stiff initial vlaue problem\n",
    "\n",
    "$$y' = −20y + 20 cos(t) − sin(t), \\quad 0 \\leq t \\leq 5, \\; y(0) = 0$$\n",
    "\n",
    "with $h = 0.25$. Then reduce the stepsize till you get a good numerical solution. Compare with the analytic solution $y(t) = -e^{-20t} + cos t$.\n",
    "\n",
    "\n",
    "From R. Burden book:\n",
    "\n",
    "*All the methods for approximating the solution to initial-value problems have error terms that involve a higher derivative of the solution of the equation. If the derivative can be reasonably bounded, then the method will have a predictable error bound that can be used to estimate the accuracy of the approximation. Even if the derivative grows as the steps increase, the error can be kept in relative control, provided that the solution also grows in magnitude. Problems frequently arise, however, when the magnitude of the derivative increases but the solution does not. In this situation, the error can grow so large that it dominates the calculations. Initial-value problems for which this is likely to occur are called stiff equations and are quite common, particularly in the study of vibrations, chemical reactions, and electrical circuits.*\n",
    "\n",
    "*Stiff differential equations are characterized as those whose exact solution has a term of the form $e^{−ct}$ , where $c$ is a large positive constant. This is usually only a part of the solution, called the transient solution. The more important portion of the solution is called the steady-state solution. The transient portion of a stiff equation will rapidly decay to zero\n",
    "as $t$ increases, but since the n-th derivative of this term has magnitude $c^n e^{−ct}$, the derivative does not decay as quickly. In fact, since the derivative in the error term is evaluated not at t, but at a number between zero and $t$, the derivative terms can increase as $t$ increases (and very rapidly indeed). Fortunately, stiff equations generally can be predicted from the physical problem from which the equation is derived and, with care, the error can be kept under control. The manner in which this is done is considered in this section.*\n"
   ]
  },
  {
   "cell_type": "code",
   "execution_count": 1,
   "metadata": {},
   "outputs": [],
   "source": [
    "import numpy as np\n",
    "\n",
    "\n",
    "def euler_explicit(f: 'Callable[float, float]', y0: float, t0: float, t: float, h: float) -> np.ndarray:\n",
    "    r\"\"\"Computes the explicit (forward) Euler method to solve ODEs.\n",
    "\n",
    "    Args:\n",
    "        f (Callable[float, float]): Function depending on y and t in that order.\n",
    "            Equivalent to f(y,t).\n",
    "        y0 (float): Initial value of the answer.\n",
    "            Equivalent to y(t0).\n",
    "        t0 (float): Initial time.\n",
    "        t (float): Final time.\n",
    "        h (float): Separation between the points of the interval.\n",
    "\n",
    "    Returns:\n",
    "        np.ndarray: Numerical solution of the ODE in the interval [t0, t0+h, t-h, t].\n",
    "\n",
    "    Examples:\n",
    "\n",
    "        Lets solve the problem\n",
    "\n",
    "        :math: `$$\\begin{array}{l}\n",
    "                y'=\\lambda y \\\\\n",
    "                y(0) = 1\n",
    "                \\end{array}$$`\n",
    "\n",
    "        for :math:`$\\lambda = -1$` over the interval :math: `$[0,1]$` for a stepsize `$h=0.1$`.\n",
    "    \"\"\"\n",
    "    t_ = np.arange(t0, t0+t, h)\n",
    "    N = len(t_)\n",
    "\n",
    "    u = np.zeros_like(t_)\n",
    "    u[0] = y0\n",
    "\n",
    "    for i in range(N-1):\n",
    "        u[i+1] = u[i] + h * f(u[i], t_[i])\n",
    "\n",
    "    return u\n",
    "\n",
    "\n",
    "def euler_explicit_midpoint(f: 'Callable[float, float]', y0: float, t0: float, t: float, h: float) -> np.ndarray:\n",
    "    r\"\"\"Computes the explicit (forward) midpoint Euler method to solve ODEs.\n",
    "\n",
    "    The **explicit midpoint method** is :math: `u_{n+1}=u_{n-1}+2hf\\left(t_n,u_n\\right)`\n",
    "\n",
    "    As two initial values are required, if y0_previous is not provided, it is computed with :math: `$y(-h)=y(0)-hf(0,y(0))$`.\n",
    "\n",
    "    Args:\n",
    "        f (Callable[float, float]): Function depending on y and t in that order.\n",
    "            Equivalent to f(y,t).\n",
    "        y0 (float): Initial value of the answer.\n",
    "            Equivalent to y(t0).\n",
    "        t0 (float): Initial time.\n",
    "        t (float): Final time.\n",
    "        h (float): Separation between the points of the interval.\n",
    "\n",
    "    Returns:\n",
    "        np.ndarray: Numerical solution of the ODE in the interval [t0, t0+h, t-h, t].\n",
    "    \"\"\"\n",
    "    t_ = np.arange(t0, t0+t, h)\n",
    "    N = len(t_)\n",
    "\n",
    "    u = np.zeros_like(t_)\n",
    "    u_previous = y0 - h * f(y0, t_[0])\n",
    "    u[0] = y0\n",
    "\n",
    "    for i in range(N-1):\n",
    "        if i == 0:\n",
    "            u[i+1] = u_previous + 2 * h * f(u[i], t_[i])\n",
    "        else:\n",
    "            u[i+1] = u[i-1] + 2 * h * f(u[i], t_[i])\n",
    "\n",
    "    return u\n",
    "\n",
    "def secant(f: 'Callable[float]', a: float, b: float, err: float, Nmax: int = 100_000, x0: float = None) -> float:\n",
    "    r\"\"\"Computes Secant method to find roots :math:`f(x)=0`.\n",
    "\n",
    "    If there are no roots in the interval :math:`[a, b]`, the method will throw an exception.\n",
    "    This is checked using bolzano's theorem (If :math:`f(a)*f(b) >= 0`).\n",
    "\n",
    "    To computes the first iteration, it computes the previous value as :math: `a-1`\n",
    "\n",
    "    Args:\n",
    "        f (Callable[float]): Function of which we want to find roots :math:`f(x)=0`.\n",
    "        a (float): Lower bound of the interval.\n",
    "        b (float): Upper bound of the interval.\n",
    "        err (float): Tolerance of the result. It assures that the root is in :math:`[x-err, x+err]`. #TODO: Is this the interval?\n",
    "        Nmax (int): Maximum number of iterations. Defaults to 100_000.\n",
    "        x0 (float): Initial guess for the root. Defaults :math:`(a+b)/2`.\n",
    "\n",
    "    Raises:\n",
    "        ValueError: If, according to Bolzano's theorem, there cannot be roots in :math:`[a, b]`.\n",
    "        ValueError: If the method, being at least one root in :math:`[a, b]`, fails to to compute the root.\n",
    "\n",
    "    Returns:\n",
    "        float: Root x such as f(x)=0 with a tolerance err.\n",
    "    \"\"\"\n",
    "    if f(a)*f(b) >= 0:\n",
    "        raise ValueError(f'f(a)*f(b) = {f(a)*f(b)} <0. \\t No roots in this interval.')\n",
    "\n",
    "    x_n = x0 if x0 is not None else (a+b)/2  # TODO: Check if there is a better initial guess\n",
    "    x_previous = a - 1  # TODO: Check if there is a better initial guess\n",
    "    f_x_n = f(x_n)\n",
    "\n",
    "    for _ in range(1, Nmax+1):\n",
    "\n",
    "        f_x_previous = f(x_previous)\n",
    "\n",
    "        q_n = (f_x_n - f_x_previous) / (x_n - x_previous)\n",
    "        x_previous = x_n\n",
    "\n",
    "        x_n = x_n - f_x_n / q_n\n",
    "\n",
    "        f_x_n = f(x_n)\n",
    "        if abs(f_x_n) <= err:\n",
    "            return x_n\n",
    "\n",
    "    raise ValueError(f'Could not find a root in the interval [{a}, {b}] with tolerance {err} in {Nmax} iterations.')"
   ]
  },
  {
   "cell_type": "code",
   "execution_count": null,
   "metadata": {},
   "outputs": [],
   "source": [
    "\n",
    "y_0 = 10\n",
    "x_0 = 0\n",
    "\n",
    "x_t = 100\n",
    "y_t = 0\n",
    "\n",
    "# y_dev_0 ? \n",
    "x_dev0 = 3\n",
    "\n",
    "g = 9.8"
   ]
  },
  {
   "cell_type": "markdown",
   "metadata": {},
   "source": [
    "Then x(t) = 3t\n",
    "so x(x_t) = 3t = 100 --> t = 100/3"
   ]
  },
  {
   "cell_type": "code",
   "execution_count": null,
   "metadata": {},
   "outputs": [],
   "source": [
    "t0 = 0\n",
    "t = 100/3"
   ]
  },
  {
   "cell_type": "markdown",
   "metadata": {},
   "source": [
    "if y_dev = z, z_dev = -g, --> y_f = Euler(z0) = y_t = 0"
   ]
  },
  {
   "cell_type": "markdown",
   "metadata": {},
   "source": [
    "Then we need secant(euler(z0))"
   ]
  },
  {
   "cell_type": "code",
   "execution_count": null,
   "metadata": {},
   "outputs": [],
   "source": [
    "\n",
    "def z_dev(z):\n",
    "    return - g\n",
    "\n",
    "def euler_z0(z0):\n",
    "    return euler_explicit(z_dev, z0, t0, t, 1e-4)\n",
    "\n",
    "\n",
    "\n",
    "def secant_euler(euler_z0):\n",
    "    return secant()\n",
    "\n",
    "# Ver la hoja "
   ]
  }
 ],
 "metadata": {
  "kernelspec": {
   "display_name": "Python 3",
   "language": "python",
   "name": "python3"
  },
  "language_info": {
   "codemirror_mode": {
    "name": "ipython",
    "version": 3
   },
   "file_extension": ".py",
   "mimetype": "text/x-python",
   "name": "python",
   "nbconvert_exporter": "python",
   "pygments_lexer": "ipython3",
   "version": "3.8.0"
  }
 },
 "nbformat": 4,
 "nbformat_minor": 4
}
