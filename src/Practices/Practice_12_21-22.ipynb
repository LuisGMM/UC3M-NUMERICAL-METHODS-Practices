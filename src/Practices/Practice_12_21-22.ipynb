{
 "cells": [
  {
   "cell_type": "markdown",
   "metadata": {},
   "source": [
    "# **Practice 12: Solving PDEs with finite differences**"
   ]
  },
  {
   "cell_type": "markdown",
   "metadata": {},
   "source": [
    "## Advection-diffusion equation\n",
    "\n",
    "A realistic description of pollutant transport in a river is given by the equation\n",
    "\n",
    "$$U_t+v U_x=K U_{xx}$$\n",
    "\n",
    "where $v$ is the river's velocity, and $K$ the diffusion coefficient. \n",
    "\n",
    "This is complemented with the boundary conditions\n",
    "\n",
    "$$ U(0, t) = 0 \\; \\textrm{ and } \\; \\frac{\\partial U}{\\partial x}(100, t) = 0$$\n",
    "\n",
    "and the initial condition\n",
    "\n",
    "$$ U(x,0)=e^{-\\frac{(x-10)^2}{8}}.$$\n",
    "\n",
    "\n",
    "**Exercise:** \n",
    "\n",
    "1. Suppose that there is no diffusion ($K=0$) and that $v=5$. Solve the resulting equation using the finite differences method. In particular calculate the solution for times $t=5, 10, 15$ and $20$. Does it make sense?\n",
    "\n",
    "2. What would happen if you interchange the boundary conditions?\n",
    "\n",
    "3. Now suppse that $K=2$. Calculate the new solution at those same times."
   ]
  },
  {
   "cell_type": "markdown",
   "metadata": {},
   "source": [
    "## Imports"
   ]
  },
  {
   "cell_type": "code",
   "execution_count": 12,
   "metadata": {},
   "outputs": [],
   "source": [
    "import numpy as np\n",
    "import matplotlib.pyplot as plt"
   ]
  },
  {
   "cell_type": "markdown",
   "metadata": {},
   "source": [
    "## Utilmethods"
   ]
  },
  {
   "cell_type": "code",
   "execution_count": 10,
   "metadata": {},
   "outputs": [],
   "source": [
    "def __tridiag(v1: float, v2: float, v3: float, N: int, k1: int = -1, k2: int = 0, k3: int = 1) -> np.ndarray:\n",
    "    return np.diag(np.full(N-abs(k1), v1), k1) + np.diag(np.full(N-abs(k2), v2), k2) + np.diag(np.full(N-abs(k3), v3), k3)\n",
    "\n",
    "\n",
    "\n",
    "def advection_diffusion(v, K, t0, tf, x0, xf, u0, k, h) -> np.ndarray:\n",
    "\n",
    "    s = k/h\n",
    "\n",
    "    x = np.arange(x0, xf+h, h)\n",
    "    t = np.arange(t0, tf+h, h)\n",
    "\n",
    "    LEN_X = len(x)\n",
    "    LEN_T = len(t)\n",
    "\n",
    "    v1 = K*s/h\n",
    "    v2 = -2*K*s/h - v*s + 1\n",
    "    v3 = K*s/h -v*s\n",
    "    \n",
    "    m = __tridiag(v1, v2, v3, LEN_X)\n",
    "\n",
    "    sol = np.zeros((LEN_X, LEN_T))\n",
    "    sol[:, 0] = u0(x)\n",
    "\n",
    "    for ti in range(1, LEN_T):\n",
    "        sol[:, ti] = m@sol[:, ti-1]\n",
    "    \n",
    "    return sol, x, t"
   ]
  },
  {
   "cell_type": "code",
   "execution_count": 19,
   "metadata": {},
   "outputs": [
    {
     "data": {
      "image/png": "[encoded data removed]",
      "text/plain": [
       "<Figure size 432x288 with 1 Axes>"
      ]
     },
     "metadata": {
      "needs_background": "light"
     },
     "output_type": "display_data"
    }
   ],
   "source": [
    "\n",
    "for ti in (5, 10, 15, 20):\n",
    "    sol, x, t = advection_diffusion(v=5, K=0, t0=0, tf=ti, x0=0, xf=100, u0=lambda x: np.exp(-(x-10)**2/8), k=0.1, h=0.5)\n",
    "\n",
    "    plt.plot(x, sol[:, -1], label=f'time {ti}')\n",
    "    plt.legend()\n"
   ]
  }
 ],
 "metadata": {
  "kernelspec": {
   "display_name": "Python 3",
   "language": "python",
   "name": "python3"
  },
  "language_info": {
   "codemirror_mode": {
    "name": "ipython",
    "version": 3
   },
   "file_extension": ".py",
   "mimetype": "text/x-python",
   "name": "python",
   "nbconvert_exporter": "python",
   "pygments_lexer": "ipython3",
   "version": "3.10.4"
  }
 },
 "nbformat": 4,
 "nbformat_minor": 4
}
