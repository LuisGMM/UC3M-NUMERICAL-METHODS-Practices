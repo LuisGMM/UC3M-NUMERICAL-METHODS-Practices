{
 "cells": [
  {
   "cell_type": "markdown",
   "metadata": {},
   "source": [
    "# **Practice 12: Solving PDEs with finite differences**"
   ]
  },
  {
   "cell_type": "markdown",
   "metadata": {},
   "source": [
    "## Advection-diffusion equation\n",
    "\n",
    "A realistic description of pollutant transport in a river is given by the equation\n",
    "\n",
    "$$U_t+v U_x=K U_{xx}$$\n",
    "\n",
    "where $v$ is the river's velocity, and $K$ the diffusion coefficient. \n",
    "\n",
    "This is complemented with the boundary conditions\n",
    "\n",
    "$$ U(0, t) = 0 \\; \\textrm{ and } \\; \\frac{\\partial U}{\\partial x}(100, t) = 0$$\n",
    "\n",
    "and the initial condition\n",
    "\n",
    "$$ U(x,0)=e^{-\\frac{(x-10)^2}{8}}.$$\n",
    "\n",
    "\n",
    "**Exercise:** \n",
    "\n",
    "1. Suppose that there is no diffusion ($K=0$) and that $v=5$. Solve the resulting equation using the finite differences method. In particular calculate the solution for times $t=5, 10, 15$ and $20$. Does it make sense?\n",
    "\n",
    "2. What would happen if you interchange the boundary conditions?\n",
    "\n",
    "3. Now suppse that $K=2$. Calculate the new solution at those same times."
   ]
  },
  {
   "cell_type": "code",
   "execution_count": null,
   "metadata": {},
   "outputs": [],
   "source": [
    "from scipy.sparse import diags\n",
    "import numpy as np\n",
    "\n",
    "n = 10\n",
    "k = [np.ones(n-1),-2*np.ones(n),np.ones(n-1)]\n",
    "offset = [-1,0,1]\n",
    "A = diags(k,offset).toarray()"
   ]
  }
 ],
 "metadata": {
  "kernelspec": {
   "display_name": "Python 3",
   "language": "python",
   "name": "python3"
  },
  "language_info": {
   "codemirror_mode": {
    "name": "ipython",
    "version": 3
   },
   "file_extension": ".py",
   "mimetype": "text/x-python",
   "name": "python",
   "nbconvert_exporter": "python",
   "pygments_lexer": "ipython3",
   "version": "3.8.10"
  }
 },
 "nbformat": 4,
 "nbformat_minor": 4
}
