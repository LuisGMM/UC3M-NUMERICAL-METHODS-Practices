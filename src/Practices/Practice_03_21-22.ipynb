{
 "cells": [
  {
   "cell_type": "markdown",
   "metadata": {
    "id": "MPh2nZ7GNd7B"
   },
   "source": [
    "**Essentials**\n",
    "\n",
    "1. Write one function for each of the following methods: the bisection method, the secant method and the Newtond's method. They must find the root of a given function with a given precision. The code should also return the number of iterations, the time that the method needed to achieve that precision and the values of the approximations to the root at each iteration. \n",
    "\n",
    "**Note:** Start coding just one of them (Secant or Newton's, as bisection was already coded for you in the class notebook) and use it to solve the exercises. Modifying the code to use the other should be easy. do it at the end of the practice if you have time left, or at home as homework.\n",
    "\n",
    "2. Determine the point of intersection of the curves given by $y=x^3-2x+1$ and $y=x^2$.\n",
    "3. Find the rectangle of maximum area if its vertices are $(0,0)$, $(x,0)$,$(x,\\cos(x))$ and $(0,\\cos(x))$ for $x\\in[0,2\\pi]$.\n",
    "4. In Newton's (or secant) method, we progress in each step from a given point $x$ to a new point $x-h$, where $h = f(x)/f'(x)$ (or the equivalent for the secant method). A refinement that is easily programmed is this: If $|f (x - h)|$ is not smaller than $|f (x)|$, then reject this value of $h$ and use $h/2$ instead. Test this refinement (for example, use $f(x)=\\arctan(x)$ with $x_0=2$).\n",
    "\n",
    "**Solving simultaneous nonlinear equations.**\n",
    "\n",
    "Newton's method can be adapted to solve systems of nonlinear equations \"easily\". Check the notes in Aula global.\n",
    "\n",
    "5. Use the Newton's method to solve the find a zero of the following equations:\n",
    "\n",
    "$$\\begin{array}{l} x^2+y^2-25=0\\\\  x^2-y-2=0 \\end{array}$$\n",
    "\n",
    "using a suitable starting point.\n",
    "\n",
    "**Once you have done the previous exercises and coded the three methods:**\n",
    "\n",
    "6. Solve exercises 2, 3 with the three methods and compare the results in terms of time and iterations for different precision tolerances. Use $\\epsilon=1e-1, 1e-2, 1e-5, 1e-10$."
   ]
  },
  {
   "cell_type": "markdown",
   "metadata": {},
   "source": [
    "# Solution "
   ]
  },
  {
   "cell_type": "code",
   "execution_count": null,
   "metadata": {},
   "outputs": [],
   "source": [
    "import sys \n",
    "from typing import Callable"
   ]
  },
  {
   "cell_type": "markdown",
   "metadata": {},
   "source": [
    "### Secant method"
   ]
  },
  {
   "cell_type": "code",
   "execution_count": null,
   "metadata": {},
   "outputs": [],
   "source": [
    "def bisection(f: 'Callable[float]', a: float, b: float, err: float, Nmax: int = 100_000) -> float:\n",
    "    r\"\"\"Computes Bisection method to find roots f(x)=0.\n",
    "\n",
    "    If there are no roots in the interval :math:`[a, b]`, the method will throw an exception.\n",
    "    This is checked using bolzano's theorem (If :math:`f(a)*f(b) >= 0`).\n",
    "\n",
    "    Args:\n",
    "        f (Callable[float]): Function of which we want to find roots :math:`f(x)=0`.\n",
    "        a (float): Lower bound of the interval.\n",
    "        b (float): Upper bound of the interval.\n",
    "        err (float): Tolerance of the result. It assures that the root is in :math:`[x-err, x+err]`. #TODO: Is this the interval?\n",
    "        Nmax (int): Maximum number of iterations. Defaults to 100_000.\n",
    "\n",
    "    Raises:\n",
    "        ValueError: If, according to Bolzano's theorem, there cannot be roots in :math:`[a, b]`.\n",
    "        ValueError: If the method, being at least one root in :math:`[a, b]`, fails to to compute the root.\n",
    "\n",
    "    Returns:\n",
    "        float: Root x such as f(x)=0 with a tolerance err.\n",
    "\n",
    "    Examples:\n",
    "        >>> f = lambda x: (x**2 - 1)\n",
    "        >>> bisection(f, -0.5, 2, 1e-10)\n",
    "        2.9103830456733704e-11\n",
    "        >>> bisection(f, -0.5, 2, 1e-10, 100)\n",
    "        ValueError: Could not find a root in the interval [-0.5, 2] with tolerance 1e-10 in 5 iterations.\n",
    "        >>> bisection(f, 5, 20, 1e-7)\n",
    "        ValueError: f(a)*f(b)=9576 <0.   No roots in this interval.\n",
    "    \"\"\"\n",
    "    if f(a)*f(b) >= 0:\n",
    "        raise ValueError(f'f(a)*f(b) = {f(a)*f(b)} <0. \\t No roots in this interval.')\n",
    "\n",
    "    N = int(min(Nmax, np.ceil(np.log((b-a)/err) / np.log(2) - 1)))  # What is this?\n",
    "    a_n = a\n",
    "    b_n = b\n",
    "    m_n = (a_n + b_n)/2\n",
    "    f_m_n = f(m_n)\n",
    "    for _ in range(1, N+1):\n",
    "\n",
    "        if f(a_n)*f_m_n < 0:\n",
    "            b_n = m_n\n",
    "\n",
    "        elif f(b_n)*f_m_n < 0:\n",
    "            a_n = m_n\n",
    "\n",
    "        m_n = (a_n + b_n)/2\n",
    "        f_m_n = f(m_n)\n",
    "\n",
    "        if abs(f_m_n) <= err:\n",
    "            return m_n\n",
    "\n",
    "    raise ValueError(f'Could not find a root in the interval [{a}, {b}] with tolerance {err} in {N} iterations.')\n"
   ]
  },
  {
   "cell_type": "markdown",
   "metadata": {},
   "source": [
    "### Bisection method"
   ]
  },
  {
   "cell_type": "code",
   "execution_count": null,
   "metadata": {},
   "outputs": [],
   "source": []
  },
  {
   "cell_type": "markdown",
   "metadata": {},
   "source": [
    "### Newton's method"
   ]
  },
  {
   "cell_type": "code",
   "execution_count": 4,
   "metadata": {},
   "outputs": [],
   "source": [
    "def newton(err: float = 1e-4, f: 'Callable[float]' = None, f_dev: 'Callable[float]' = None, x0: float = 0) -> float:\n",
    "    r\"\"\"Newton's method to find roots of a function.\n",
    "\n",
    "    Args:\n",
    "        err (float): Desired error of the method.\n",
    "        f (Callable[float], optional): Analytical function to find its roots. Its input is the point to be evaluated in. Defaults to None.\n",
    "        f_dev (Callable[float], optional): Analytical derivative of the function. Its input is the point to be evaluated in. Defaults to None.\n",
    "        x0 (float, optional): Initial guess of the root.\n",
    "            Note that an inadequate first guess could lead to undesired outputs such as no roots or undesired roots.\n",
    "            Defaults to 0.\n",
    "        \n",
    "    Returns:\n",
    "        float|None: Root of the function or None if the algorithm reaches its recursion limit.\n",
    "    \"\"\"\n",
    "    iter, iter_dict = 0, {0: x0} # Not necessary to store all the values, but anyway\n",
    "    limit = sys.getrecursionlimit()\n",
    "\n",
    "    while True:\n",
    "        if iter + 10 >= limit:\n",
    "            print(f'Iteration limit ({limit}) reached without finding any root. Try with other initial guess or changing the recursion limit. \\\n",
    "                    Maybe there are no roots.')\n",
    "            return\n",
    "\n",
    "        iter_dict[iter+1] = iter_dict[iter] - f(iter_dict[iter]) / f_dev(iter_dict[iter])\n",
    "\n",
    "        if abs(iter_dict[iter+1] - iter_dict[iter]) < err:\n",
    "            return iter_dict[iter+1]\n",
    "\n",
    "        iter += 1\n",
    "\n",
    "if __name__ == '__main__':\n",
    "\n",
    "    def func(x):\n",
    "        return (x+1)**2 - 1\n",
    "\n",
    "    def func_dev(x):\n",
    "        return 2*(x+1)\n",
    "\n",
    "    newton(err=0.0001, f=func, f_dev=func_dev, x0=0.5)\n"
   ]
  }
 ],
 "metadata": {
  "colab": {
   "authorship_tag": "ABX9TyNKScZeU+3c8/9Zbea9SMve",
   "collapsed_sections": [],
   "name": "Practice 03.ipynb",
   "provenance": []
  },
  "kernelspec": {
   "display_name": "Python 3",
   "language": "python",
   "name": "python3"
  },
  "language_info": {
   "codemirror_mode": {
    "name": "ipython",
    "version": 3
   },
   "file_extension": ".py",
   "mimetype": "text/x-python",
   "name": "python",
   "nbconvert_exporter": "python",
   "pygments_lexer": "ipython3",
   "version": "3.8.10"
  }
 },
 "nbformat": 4,
 "nbformat_minor": 1
}
