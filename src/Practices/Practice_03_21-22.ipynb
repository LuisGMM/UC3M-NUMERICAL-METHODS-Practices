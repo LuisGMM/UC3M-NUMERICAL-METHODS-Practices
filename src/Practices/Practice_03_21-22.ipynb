{
 "cells": [
  {
   "cell_type": "markdown",
   "metadata": {
    "id": "MPh2nZ7GNd7B"
   },
   "source": [
    "**Essentials**\n",
    "\n",
    "1. Write one function for each of the following methods: the bisection method, the secant method and the Newtond's method. They must find the root of a given function with a given precision. The code should also return the number of iterations, the time that the method needed to achieve that precision and the values of the approximations to the root at each iteration. \n",
    "\n",
    "**Note:** Start coding just one of them (Secant or Newton's, as bisection was already coded for you in the class notebook) and use it to solve the exercises. Modifying the code to use the other should be easy. do it at the end of the practice if you have time left, or at home as homework.\n",
    "\n",
    "2. Determine the point of intersection of the curves given by $y=x^3-2x+1$ and $y=x^2$.\n",
    "3. Find the rectangle of maximum area if its vertices are $(0,0)$, $(x,0)$,$(x,\\cos(x))$ and $(0,\\cos(x))$ for $x\\in[0,2\\pi]$.\n",
    "4. In Newton's (or secant) method, we progress in each step from a given point $x$ to a new point $x-h$, where $h = f(x)/f'(x)$ (or the equivalent for the secant method). A refinement that is easily programmed is this: If $|f (x - h)|$ is not smaller than $|f (x)|$, then reject this value of $h$ and use $h/2$ instead. Test this refinement (for example, use $f(x)=\\arctan(x)$ with $x_0=2$).\n",
    "\n",
    "**Solving simultaneous nonlinear equations.**\n",
    "\n",
    "Newton's method can be adapted to solve systems of nonlinear equations \"easily\". Check the notes in Aula global.\n",
    "\n",
    "5. Use the Newton's method to solve the find a zero of the following equations:\n",
    "\n",
    "$$\\begin{array}{l} x^2+y^2-25=0\\\\  x^2-y-2=0 \\end{array}$$\n",
    "\n",
    "using a suitable starting point.\n",
    "\n",
    "**Once you have done the previous exercises and coded the three methods:**\n",
    "\n",
    "6. Solve exercises 2, 3 with the three methods and compare the results in terms of time and iterations for different precision tolerances. Use $\\epsilon=1e-1, 1e-2, 1e-5, 1e-10$."
   ]
  },
  {
   "cell_type": "markdown",
   "metadata": {},
   "source": [
    "# Solution "
   ]
  },
  {
   "cell_type": "code",
   "execution_count": 1,
   "metadata": {},
   "outputs": [
    {
     "ename": "RecursionError",
     "evalue": "maximum recursion depth exceeded",
     "output_type": "error",
     "traceback": [
      "\u001b[0;31m---------------------------------------------------------------------------\u001b[0m",
      "\u001b[0;31mRecursionError\u001b[0m                            Traceback (most recent call last)",
      "\u001b[1;32m/home/luisgmm/Documents/GitHub/UC3M-NUMERICAL-METHODS-Practices/Practice_03_21-22.ipynb Cell 3'\u001b[0m in \u001b[0;36m<cell line: 33>\u001b[0;34m()\u001b[0m\n\u001b[1;32m     <a href='vscode-notebook-cell:/home/luisgmm/Documents/GitHub/UC3M-NUMERICAL-METHODS-Practices/Practice_03_21-22.ipynb#ch0000001?line=32'>33</a>\u001b[0m \u001b[39mif\u001b[39;00m \u001b[39m__name__\u001b[39m \u001b[39m==\u001b[39m \u001b[39m'\u001b[39m\u001b[39m__main__\u001b[39m\u001b[39m'\u001b[39m:\n\u001b[1;32m     <a href='vscode-notebook-cell:/home/luisgmm/Documents/GitHub/UC3M-NUMERICAL-METHODS-Practices/Practice_03_21-22.ipynb#ch0000001?line=34'>35</a>\u001b[0m     \u001b[39mdef\u001b[39;00m \u001b[39mfunc\u001b[39m(x):    \u001b[39mreturn\u001b[39;00m (x\u001b[39m+\u001b[39m\u001b[39m1\u001b[39m)\u001b[39m*\u001b[39m\u001b[39m*\u001b[39m\u001b[39m2\u001b[39m \u001b[39m+\u001b[39m\u001b[39m1\u001b[39m\n\u001b[0;32m---> <a href='vscode-notebook-cell:/home/luisgmm/Documents/GitHub/UC3M-NUMERICAL-METHODS-Practices/Practice_03_21-22.ipynb#ch0000001?line=36'>37</a>\u001b[0m     newton(func, \u001b[39m0.0001\u001b[39;49m, \u001b[39m0\u001b[39;49m)\n",
      "\u001b[1;32m/home/luisgmm/Documents/GitHub/UC3M-NUMERICAL-METHODS-Practices/Practice_03_21-22.ipynb Cell 3'\u001b[0m in \u001b[0;36mnewton\u001b[0;34m(f, err, x0)\u001b[0m\n\u001b[1;32m     <a href='vscode-notebook-cell:/home/luisgmm/Documents/GitHub/UC3M-NUMERICAL-METHODS-Practices/Practice_03_21-22.ipynb#ch0000001?line=24'>25</a>\u001b[0m \u001b[39mif\u001b[39;00m last_index \u001b[39m+\u001b[39m \u001b[39m10\u001b[39m \u001b[39m>\u001b[39m sys\u001b[39m.\u001b[39mgetrecursionlimit():\n\u001b[1;32m     <a href='vscode-notebook-cell:/home/luisgmm/Documents/GitHub/UC3M-NUMERICAL-METHODS-Practices/Practice_03_21-22.ipynb#ch0000001?line=25'>26</a>\u001b[0m     \u001b[39mraise\u001b[39;00m NoRootException(\u001b[39m'\u001b[39m\u001b[39mCould not find a root. Maybe there are none.\u001b[39m\u001b[39m'\u001b[39m)\n\u001b[0;32m---> <a href='vscode-notebook-cell:/home/luisgmm/Documents/GitHub/UC3M-NUMERICAL-METHODS-Practices/Practice_03_21-22.ipynb#ch0000001?line=27'>28</a>\u001b[0m newton(f, err, x0)\n",
      "\u001b[1;32m/home/luisgmm/Documents/GitHub/UC3M-NUMERICAL-METHODS-Practices/Practice_03_21-22.ipynb Cell 3'\u001b[0m in \u001b[0;36mnewton\u001b[0;34m(f, err, x0)\u001b[0m\n\u001b[1;32m     <a href='vscode-notebook-cell:/home/luisgmm/Documents/GitHub/UC3M-NUMERICAL-METHODS-Practices/Practice_03_21-22.ipynb#ch0000001?line=24'>25</a>\u001b[0m \u001b[39mif\u001b[39;00m last_index \u001b[39m+\u001b[39m \u001b[39m10\u001b[39m \u001b[39m>\u001b[39m sys\u001b[39m.\u001b[39mgetrecursionlimit():\n\u001b[1;32m     <a href='vscode-notebook-cell:/home/luisgmm/Documents/GitHub/UC3M-NUMERICAL-METHODS-Practices/Practice_03_21-22.ipynb#ch0000001?line=25'>26</a>\u001b[0m     \u001b[39mraise\u001b[39;00m NoRootException(\u001b[39m'\u001b[39m\u001b[39mCould not find a root. Maybe there are none.\u001b[39m\u001b[39m'\u001b[39m)\n\u001b[0;32m---> <a href='vscode-notebook-cell:/home/luisgmm/Documents/GitHub/UC3M-NUMERICAL-METHODS-Practices/Practice_03_21-22.ipynb#ch0000001?line=27'>28</a>\u001b[0m newton(f, err, x0)\n",
      "    \u001b[0;31m[... skipping similar frames: newton at line 28 (2968 times)]\u001b[0m\n",
      "\u001b[1;32m/home/luisgmm/Documents/GitHub/UC3M-NUMERICAL-METHODS-Practices/Practice_03_21-22.ipynb Cell 3'\u001b[0m in \u001b[0;36mnewton\u001b[0;34m(f, err, x0)\u001b[0m\n\u001b[1;32m     <a href='vscode-notebook-cell:/home/luisgmm/Documents/GitHub/UC3M-NUMERICAL-METHODS-Practices/Practice_03_21-22.ipynb#ch0000001?line=24'>25</a>\u001b[0m \u001b[39mif\u001b[39;00m last_index \u001b[39m+\u001b[39m \u001b[39m10\u001b[39m \u001b[39m>\u001b[39m sys\u001b[39m.\u001b[39mgetrecursionlimit():\n\u001b[1;32m     <a href='vscode-notebook-cell:/home/luisgmm/Documents/GitHub/UC3M-NUMERICAL-METHODS-Practices/Practice_03_21-22.ipynb#ch0000001?line=25'>26</a>\u001b[0m     \u001b[39mraise\u001b[39;00m NoRootException(\u001b[39m'\u001b[39m\u001b[39mCould not find a root. Maybe there are none.\u001b[39m\u001b[39m'\u001b[39m)\n\u001b[0;32m---> <a href='vscode-notebook-cell:/home/luisgmm/Documents/GitHub/UC3M-NUMERICAL-METHODS-Practices/Practice_03_21-22.ipynb#ch0000001?line=27'>28</a>\u001b[0m newton(f, err, x0)\n",
      "\u001b[1;32m/home/luisgmm/Documents/GitHub/UC3M-NUMERICAL-METHODS-Practices/Practice_03_21-22.ipynb Cell 3'\u001b[0m in \u001b[0;36mnewton\u001b[0;34m(f, err, x0)\u001b[0m\n\u001b[1;32m     <a href='vscode-notebook-cell:/home/luisgmm/Documents/GitHub/UC3M-NUMERICAL-METHODS-Practices/Practice_03_21-22.ipynb#ch0000001?line=16'>17</a>\u001b[0m last_index \u001b[39m=\u001b[39m \u001b[39mlen\u001b[39m(newton_cache)\n\u001b[1;32m     <a href='vscode-notebook-cell:/home/luisgmm/Documents/GitHub/UC3M-NUMERICAL-METHODS-Practices/Practice_03_21-22.ipynb#ch0000001?line=17'>18</a>\u001b[0m last_newton \u001b[39m=\u001b[39m newton_cache[last_index]    \n\u001b[0;32m---> <a href='vscode-notebook-cell:/home/luisgmm/Documents/GitHub/UC3M-NUMERICAL-METHODS-Practices/Practice_03_21-22.ipynb#ch0000001?line=19'>20</a>\u001b[0m newton_cache[last_index \u001b[39m+\u001b[39m \u001b[39m1\u001b[39m] \u001b[39m=\u001b[39m last_newton \u001b[39m-\u001b[39m f(last_newton) \u001b[39m/\u001b[39m dev(last_newton, f)\n\u001b[1;32m     <a href='vscode-notebook-cell:/home/luisgmm/Documents/GitHub/UC3M-NUMERICAL-METHODS-Practices/Practice_03_21-22.ipynb#ch0000001?line=21'>22</a>\u001b[0m \u001b[39mif\u001b[39;00m \u001b[39mabs\u001b[39m(newton_cache[\u001b[39mlen\u001b[39m(newton_cache)] \u001b[39m-\u001b[39m newton_cache[\u001b[39mlen\u001b[39m(newton_cache) \u001b[39m-\u001b[39m \u001b[39m1\u001b[39m]) \u001b[39m<\u001b[39m err:\n\u001b[1;32m     <a href='vscode-notebook-cell:/home/luisgmm/Documents/GitHub/UC3M-NUMERICAL-METHODS-Practices/Practice_03_21-22.ipynb#ch0000001?line=22'>23</a>\u001b[0m     \u001b[39mreturn\u001b[39;00m newton_cache[last_index \u001b[39m+\u001b[39m \u001b[39m1\u001b[39m] \u001b[39m# +1 ?\u001b[39;00m\n",
      "\u001b[1;32m/home/luisgmm/Documents/GitHub/UC3M-NUMERICAL-METHODS-Practices/Practice_03_21-22.ipynb Cell 3'\u001b[0m in \u001b[0;36mdev\u001b[0;34m(x, f, h)\u001b[0m\n\u001b[1;32m      <a href='vscode-notebook-cell:/home/luisgmm/Documents/GitHub/UC3M-NUMERICAL-METHODS-Practices/Practice_03_21-22.ipynb#ch0000001?line=7'>8</a>\u001b[0m \u001b[39mdef\u001b[39;00m \u001b[39mdev\u001b[39m(x:\u001b[39mfloat\u001b[39m, f:\u001b[39many\u001b[39m, h:\u001b[39mfloat\u001b[39m \u001b[39m=\u001b[39m \u001b[39m10\u001b[39m\u001b[39m*\u001b[39m\u001b[39m*\u001b[39m(\u001b[39m-\u001b[39m\u001b[39m7\u001b[39m))\u001b[39m-\u001b[39m\u001b[39m>\u001b[39m \u001b[39mfloat\u001b[39m:\n\u001b[0;32m----> <a href='vscode-notebook-cell:/home/luisgmm/Documents/GitHub/UC3M-NUMERICAL-METHODS-Practices/Practice_03_21-22.ipynb#ch0000001?line=8'>9</a>\u001b[0m     \u001b[39mreturn\u001b[39;00m ( f(x\u001b[39m+\u001b[39;49mh) \u001b[39m-\u001b[39m f(x) ) \u001b[39m/\u001b[39m h\n",
      "\u001b[0;31mRecursionError\u001b[0m: maximum recursion depth exceeded"
     ]
    }
   ],
   "source": [
    "import sys\n",
    "\n",
    "\n",
    "class NoRootException(Exception):\n",
    "    pass\n",
    "\n",
    "\n",
    "def dev(x:float, f:any, h:float = 10**(-7))-> float:\n",
    "    return ( f(x+h) - f(x) ) / h \n",
    "\n",
    "newton_cache = {}\n",
    "def newton(f:any, err:float, x0:float = 0) -> float:\n",
    "    \n",
    "    if len(newton_cache) == 0:\n",
    "        newton_cache[1] = x0\n",
    "\n",
    "    last_index = len(newton_cache)\n",
    "    last_newton = newton_cache[last_index]    \n",
    "\n",
    "    newton_cache[last_index + 1] = last_newton - f(last_newton) / dev(last_newton, f)\n",
    "\n",
    "    if abs(newton_cache[len(newton_cache)] - newton_cache[len(newton_cache) - 1]) < err:\n",
    "        return newton_cache[last_index + 1] # +1 ?\n",
    "\n",
    "    if last_index + 10 > sys.getrecursionlimit():\n",
    "        raise NoRootException('Could not find a root. Maybe there are none.')\n",
    "\n",
    "    newton(f, err, x0)\n",
    "\n",
    "\n",
    "\n",
    "\n",
    "if __name__ == '__main__':\n",
    "\n",
    "    def func(x):    return (x+1)**2 +1\n",
    "\n",
    "    newton(func, 0.0001, 0)\n"
   ]
  }
 ],
 "metadata": {
  "colab": {
   "authorship_tag": "ABX9TyNKScZeU+3c8/9Zbea9SMve",
   "collapsed_sections": [],
   "name": "Practice 03.ipynb",
   "provenance": []
  },
  "kernelspec": {
   "display_name": "Python 3",
   "language": "python",
   "name": "python3"
  },
  "language_info": {
   "codemirror_mode": {
    "name": "ipython",
    "version": 3
   },
   "file_extension": ".py",
   "mimetype": "text/x-python",
   "name": "python",
   "nbconvert_exporter": "python",
   "pygments_lexer": "ipython3",
   "version": "3.8.10"
  }
 },
 "nbformat": 4,
 "nbformat_minor": 1
}
