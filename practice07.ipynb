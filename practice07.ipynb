{
 "cells": [
  {
   "cell_type": "markdown",
   "metadata": {},
   "source": [
    "# **Practice 7**"
   ]
  },
  {
   "cell_type": "markdown",
   "metadata": {
    "id": "ow9RvFj3Uxpx"
   },
   "source": [
    "1. In this practice we are going to program and use an explicit and an implicit method to solve an ODE.\n",
    "\n",
    "+ Based on explicit Euler's method provided in the class' notebook program Heun's method.\n",
    "\n",
    "+ Based on that same code and the Newton's method that you coded in practice 3, program the implicit Euler's method.\n",
    "\n",
    "+ Solve the initial value \n",
    "$$y'=-\\frac{3t^2y+y^2}{2t^3+3ty}$$\n",
    "$$ y(1)=-2$$\n",
    "on the interval $[1,2]$. Use step sizes $h = 0.0001, 0.001, 0.01, 0.1$. \n",
    "\n",
    "+ Use the implicit solution $t^3y^2+ty^3+4=0$ to check your results.\n",
    "\n",
    "**Note:** Try to write functions that you could use for other problems with small changes, if any."
   ]
  }
 ],
 "metadata": {
  "colab": {
   "authorship_tag": "ABX9TyN6ra7VTQOxVFNnGFG6EDda",
   "name": "Practice_07.ipynb",
   "provenance": []
  },
  "kernelspec": {
   "display_name": "Python 3",
   "language": "python",
   "name": "python3"
  },
  "language_info": {
   "codemirror_mode": {
    "name": "ipython",
    "version": 3
   },
   "file_extension": ".py",
   "mimetype": "text/x-python",
   "name": "python",
   "nbconvert_exporter": "python",
   "pygments_lexer": "ipython3",
   "version": "3.8.10"
  }
 },
 "nbformat": 4,
 "nbformat_minor": 1
}